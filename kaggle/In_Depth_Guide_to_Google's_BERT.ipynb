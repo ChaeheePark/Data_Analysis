{
  "nbformat": 4,
  "nbformat_minor": 0,
  "metadata": {
    "colab": {
      "name": "In-Depth Guide to Google's BERT.ipynb",
      "provenance": [],
      "collapsed_sections": []
    },
    "kernelspec": {
      "name": "python3",
      "display_name": "Python 3"
    },
    "language_info": {
      "name": "python"
    },
    "accelerator": "GPU"
  },
  "cells": [
    {
      "cell_type": "code",
      "execution_count": 1,
      "metadata": {
        "id": "Prw069NWbA53"
      },
      "outputs": [],
      "source": [
        "# This Python 3 environment comes with many helpful analytics libraries installed\n",
        "# It is defined by the kaggle/python docker image: https://github.com/kaggle/docker-python\n",
        "# For example, here's several helpful packages to load in \n",
        "\n",
        "import numpy as np # linear algebra\n",
        "import pandas as pd # data processing, CSV file I/O (e.g. pd.read_csv)\n",
        "\n",
        "# Input data files are available in the \"../input/\" directory.\n",
        "# For example, running this (by clicking run or pressing Shift+Enter) will list all files under the input directory\n",
        "\n",
        "import os\n",
        "\n",
        "# Any results you write to the current directory are saved as output.\n",
        "import numpy as np\n",
        "import pandas as pd\n",
        "import tensorflow as tf\n",
        "from tensorflow.keras.layers import Dense, Input\n",
        "from tensorflow.keras.optimizers import Adam\n",
        "from tensorflow.keras.models import Model\n",
        "from tensorflow.keras.callbacks import ModelCheckpoint\n",
        "import tensorflow_hub as hub"
      ]
    },
    {
      "cell_type": "code",
      "source": [
        "!pip install sentencepiece"
      ],
      "metadata": {
        "colab": {
          "base_uri": "https://localhost:8080/"
        },
        "id": "7Z8JYo6Wf0Vs",
        "outputId": "64112db2-f30d-45aa-f1a6-2c09aebd0464"
      },
      "execution_count": 2,
      "outputs": [
        {
          "output_type": "stream",
          "name": "stdout",
          "text": [
            "Collecting sentencepiece\n",
            "  Downloading sentencepiece-0.1.96-cp37-cp37m-manylinux_2_17_x86_64.manylinux2014_x86_64.whl (1.2 MB)\n",
            "\u001b[?25l\r\u001b[K     |▎                               | 10 kB 37.0 MB/s eta 0:00:01\r\u001b[K     |▌                               | 20 kB 19.1 MB/s eta 0:00:01\r\u001b[K     |▉                               | 30 kB 12.1 MB/s eta 0:00:01\r\u001b[K     |█                               | 40 kB 11.5 MB/s eta 0:00:01\r\u001b[K     |█▍                              | 51 kB 8.7 MB/s eta 0:00:01\r\u001b[K     |█▋                              | 61 kB 9.0 MB/s eta 0:00:01\r\u001b[K     |██                              | 71 kB 7.8 MB/s eta 0:00:01\r\u001b[K     |██▏                             | 81 kB 8.8 MB/s eta 0:00:01\r\u001b[K     |██▍                             | 92 kB 7.9 MB/s eta 0:00:01\r\u001b[K     |██▊                             | 102 kB 8.5 MB/s eta 0:00:01\r\u001b[K     |███                             | 112 kB 8.5 MB/s eta 0:00:01\r\u001b[K     |███▎                            | 122 kB 8.5 MB/s eta 0:00:01\r\u001b[K     |███▌                            | 133 kB 8.5 MB/s eta 0:00:01\r\u001b[K     |███▉                            | 143 kB 8.5 MB/s eta 0:00:01\r\u001b[K     |████                            | 153 kB 8.5 MB/s eta 0:00:01\r\u001b[K     |████▎                           | 163 kB 8.5 MB/s eta 0:00:01\r\u001b[K     |████▋                           | 174 kB 8.5 MB/s eta 0:00:01\r\u001b[K     |████▉                           | 184 kB 8.5 MB/s eta 0:00:01\r\u001b[K     |█████▏                          | 194 kB 8.5 MB/s eta 0:00:01\r\u001b[K     |█████▍                          | 204 kB 8.5 MB/s eta 0:00:01\r\u001b[K     |█████▊                          | 215 kB 8.5 MB/s eta 0:00:01\r\u001b[K     |██████                          | 225 kB 8.5 MB/s eta 0:00:01\r\u001b[K     |██████▏                         | 235 kB 8.5 MB/s eta 0:00:01\r\u001b[K     |██████▌                         | 245 kB 8.5 MB/s eta 0:00:01\r\u001b[K     |██████▊                         | 256 kB 8.5 MB/s eta 0:00:01\r\u001b[K     |███████                         | 266 kB 8.5 MB/s eta 0:00:01\r\u001b[K     |███████▎                        | 276 kB 8.5 MB/s eta 0:00:01\r\u001b[K     |███████▋                        | 286 kB 8.5 MB/s eta 0:00:01\r\u001b[K     |███████▉                        | 296 kB 8.5 MB/s eta 0:00:01\r\u001b[K     |████████                        | 307 kB 8.5 MB/s eta 0:00:01\r\u001b[K     |████████▍                       | 317 kB 8.5 MB/s eta 0:00:01\r\u001b[K     |████████▋                       | 327 kB 8.5 MB/s eta 0:00:01\r\u001b[K     |█████████                       | 337 kB 8.5 MB/s eta 0:00:01\r\u001b[K     |█████████▏                      | 348 kB 8.5 MB/s eta 0:00:01\r\u001b[K     |█████████▌                      | 358 kB 8.5 MB/s eta 0:00:01\r\u001b[K     |█████████▊                      | 368 kB 8.5 MB/s eta 0:00:01\r\u001b[K     |██████████                      | 378 kB 8.5 MB/s eta 0:00:01\r\u001b[K     |██████████▎                     | 389 kB 8.5 MB/s eta 0:00:01\r\u001b[K     |██████████▌                     | 399 kB 8.5 MB/s eta 0:00:01\r\u001b[K     |██████████▉                     | 409 kB 8.5 MB/s eta 0:00:01\r\u001b[K     |███████████                     | 419 kB 8.5 MB/s eta 0:00:01\r\u001b[K     |███████████▍                    | 430 kB 8.5 MB/s eta 0:00:01\r\u001b[K     |███████████▋                    | 440 kB 8.5 MB/s eta 0:00:01\r\u001b[K     |███████████▉                    | 450 kB 8.5 MB/s eta 0:00:01\r\u001b[K     |████████████▏                   | 460 kB 8.5 MB/s eta 0:00:01\r\u001b[K     |████████████▍                   | 471 kB 8.5 MB/s eta 0:00:01\r\u001b[K     |████████████▊                   | 481 kB 8.5 MB/s eta 0:00:01\r\u001b[K     |█████████████                   | 491 kB 8.5 MB/s eta 0:00:01\r\u001b[K     |█████████████▎                  | 501 kB 8.5 MB/s eta 0:00:01\r\u001b[K     |█████████████▌                  | 512 kB 8.5 MB/s eta 0:00:01\r\u001b[K     |█████████████▊                  | 522 kB 8.5 MB/s eta 0:00:01\r\u001b[K     |██████████████                  | 532 kB 8.5 MB/s eta 0:00:01\r\u001b[K     |██████████████▎                 | 542 kB 8.5 MB/s eta 0:00:01\r\u001b[K     |██████████████▋                 | 552 kB 8.5 MB/s eta 0:00:01\r\u001b[K     |██████████████▉                 | 563 kB 8.5 MB/s eta 0:00:01\r\u001b[K     |███████████████▏                | 573 kB 8.5 MB/s eta 0:00:01\r\u001b[K     |███████████████▍                | 583 kB 8.5 MB/s eta 0:00:01\r\u001b[K     |███████████████▋                | 593 kB 8.5 MB/s eta 0:00:01\r\u001b[K     |████████████████                | 604 kB 8.5 MB/s eta 0:00:01\r\u001b[K     |████████████████▏               | 614 kB 8.5 MB/s eta 0:00:01\r\u001b[K     |████████████████▌               | 624 kB 8.5 MB/s eta 0:00:01\r\u001b[K     |████████████████▊               | 634 kB 8.5 MB/s eta 0:00:01\r\u001b[K     |█████████████████               | 645 kB 8.5 MB/s eta 0:00:01\r\u001b[K     |█████████████████▎              | 655 kB 8.5 MB/s eta 0:00:01\r\u001b[K     |█████████████████▌              | 665 kB 8.5 MB/s eta 0:00:01\r\u001b[K     |█████████████████▉              | 675 kB 8.5 MB/s eta 0:00:01\r\u001b[K     |██████████████████              | 686 kB 8.5 MB/s eta 0:00:01\r\u001b[K     |██████████████████▍             | 696 kB 8.5 MB/s eta 0:00:01\r\u001b[K     |██████████████████▋             | 706 kB 8.5 MB/s eta 0:00:01\r\u001b[K     |███████████████████             | 716 kB 8.5 MB/s eta 0:00:01\r\u001b[K     |███████████████████▏            | 727 kB 8.5 MB/s eta 0:00:01\r\u001b[K     |███████████████████▍            | 737 kB 8.5 MB/s eta 0:00:01\r\u001b[K     |███████████████████▊            | 747 kB 8.5 MB/s eta 0:00:01\r\u001b[K     |████████████████████            | 757 kB 8.5 MB/s eta 0:00:01\r\u001b[K     |████████████████████▎           | 768 kB 8.5 MB/s eta 0:00:01\r\u001b[K     |████████████████████▌           | 778 kB 8.5 MB/s eta 0:00:01\r\u001b[K     |████████████████████▉           | 788 kB 8.5 MB/s eta 0:00:01\r\u001b[K     |█████████████████████           | 798 kB 8.5 MB/s eta 0:00:01\r\u001b[K     |█████████████████████▎          | 808 kB 8.5 MB/s eta 0:00:01\r\u001b[K     |█████████████████████▋          | 819 kB 8.5 MB/s eta 0:00:01\r\u001b[K     |█████████████████████▉          | 829 kB 8.5 MB/s eta 0:00:01\r\u001b[K     |██████████████████████▏         | 839 kB 8.5 MB/s eta 0:00:01\r\u001b[K     |██████████████████████▍         | 849 kB 8.5 MB/s eta 0:00:01\r\u001b[K     |██████████████████████▊         | 860 kB 8.5 MB/s eta 0:00:01\r\u001b[K     |███████████████████████         | 870 kB 8.5 MB/s eta 0:00:01\r\u001b[K     |███████████████████████▏        | 880 kB 8.5 MB/s eta 0:00:01\r\u001b[K     |███████████████████████▌        | 890 kB 8.5 MB/s eta 0:00:01\r\u001b[K     |███████████████████████▊        | 901 kB 8.5 MB/s eta 0:00:01\r\u001b[K     |████████████████████████        | 911 kB 8.5 MB/s eta 0:00:01\r\u001b[K     |████████████████████████▎       | 921 kB 8.5 MB/s eta 0:00:01\r\u001b[K     |████████████████████████▋       | 931 kB 8.5 MB/s eta 0:00:01\r\u001b[K     |████████████████████████▉       | 942 kB 8.5 MB/s eta 0:00:01\r\u001b[K     |█████████████████████████       | 952 kB 8.5 MB/s eta 0:00:01\r\u001b[K     |█████████████████████████▍      | 962 kB 8.5 MB/s eta 0:00:01\r\u001b[K     |█████████████████████████▋      | 972 kB 8.5 MB/s eta 0:00:01\r\u001b[K     |██████████████████████████      | 983 kB 8.5 MB/s eta 0:00:01\r\u001b[K     |██████████████████████████▏     | 993 kB 8.5 MB/s eta 0:00:01\r\u001b[K     |██████████████████████████▌     | 1.0 MB 8.5 MB/s eta 0:00:01\r\u001b[K     |██████████████████████████▊     | 1.0 MB 8.5 MB/s eta 0:00:01\r\u001b[K     |███████████████████████████     | 1.0 MB 8.5 MB/s eta 0:00:01\r\u001b[K     |███████████████████████████▎    | 1.0 MB 8.5 MB/s eta 0:00:01\r\u001b[K     |███████████████████████████▌    | 1.0 MB 8.5 MB/s eta 0:00:01\r\u001b[K     |███████████████████████████▉    | 1.1 MB 8.5 MB/s eta 0:00:01\r\u001b[K     |████████████████████████████    | 1.1 MB 8.5 MB/s eta 0:00:01\r\u001b[K     |████████████████████████████▍   | 1.1 MB 8.5 MB/s eta 0:00:01\r\u001b[K     |████████████████████████████▋   | 1.1 MB 8.5 MB/s eta 0:00:01\r\u001b[K     |████████████████████████████▉   | 1.1 MB 8.5 MB/s eta 0:00:01\r\u001b[K     |█████████████████████████████▏  | 1.1 MB 8.5 MB/s eta 0:00:01\r\u001b[K     |█████████████████████████████▍  | 1.1 MB 8.5 MB/s eta 0:00:01\r\u001b[K     |█████████████████████████████▊  | 1.1 MB 8.5 MB/s eta 0:00:01\r\u001b[K     |██████████████████████████████  | 1.1 MB 8.5 MB/s eta 0:00:01\r\u001b[K     |██████████████████████████████▎ | 1.1 MB 8.5 MB/s eta 0:00:01\r\u001b[K     |██████████████████████████████▌ | 1.2 MB 8.5 MB/s eta 0:00:01\r\u001b[K     |██████████████████████████████▊ | 1.2 MB 8.5 MB/s eta 0:00:01\r\u001b[K     |███████████████████████████████ | 1.2 MB 8.5 MB/s eta 0:00:01\r\u001b[K     |███████████████████████████████▎| 1.2 MB 8.5 MB/s eta 0:00:01\r\u001b[K     |███████████████████████████████▋| 1.2 MB 8.5 MB/s eta 0:00:01\r\u001b[K     |███████████████████████████████▉| 1.2 MB 8.5 MB/s eta 0:00:01\r\u001b[K     |████████████████████████████████| 1.2 MB 8.5 MB/s \n",
            "\u001b[?25hInstalling collected packages: sentencepiece\n",
            "Successfully installed sentencepiece-0.1.96\n"
          ]
        }
      ]
    },
    {
      "cell_type": "code",
      "source": [
        "import tokenization"
      ],
      "metadata": {
        "id": "PaQdoAMzbIRE"
      },
      "execution_count": 4,
      "outputs": []
    },
    {
      "cell_type": "code",
      "source": [
        "def bert_encode(texts, tokenizer, max_len=512):\n",
        "    all_tokens = []\n",
        "    all_masks = []\n",
        "    all_segments = []\n",
        "    \n",
        "    for text in texts:\n",
        "        text = tokenizer.tokenize(text)\n",
        "            \n",
        "        text = text[:max_len-2]\n",
        "        input_sequence = [\"[CLS]\"] + text + [\"[SEP]\"]\n",
        "        pad_len = max_len - len(input_sequence)\n",
        "        \n",
        "        tokens = tokenizer.convert_tokens_to_ids(input_sequence)\n",
        "        tokens += [0] * pad_len\n",
        "        pad_masks = [1] * len(input_sequence) + [0] * pad_len\n",
        "        segment_ids = [0] * max_len\n",
        "        \n",
        "        all_tokens.append(tokens)\n",
        "        all_masks.append(pad_masks)\n",
        "        all_segments.append(segment_ids)\n",
        "    \n",
        "    return np.array(all_tokens), np.array(all_masks), np.array(all_segments)"
      ],
      "metadata": {
        "id": "EIf9h1bacDUG"
      },
      "execution_count": 5,
      "outputs": []
    },
    {
      "cell_type": "code",
      "source": [
        "def build_model(bert_layer, max_len=512):\n",
        "    input_word_ids = Input(shape=(max_len,), dtype=tf.int32, name=\"input_word_ids\")\n",
        "    input_mask = Input(shape=(max_len,), dtype=tf.int32, name=\"input_mask\")\n",
        "    segment_ids = Input(shape=(max_len,), dtype=tf.int32, name=\"segment_ids\")\n",
        "\n",
        "    _, sequence_output = bert_layer([input_word_ids, input_mask, segment_ids])\n",
        "    clf_output = sequence_output[:, 0, :]\n",
        "    out = Dense(1, activation='sigmoid')(clf_output)\n",
        "    \n",
        "    model = Model(inputs=[input_word_ids, input_mask, segment_ids], outputs=out)\n",
        "    model.compile(Adam(lr=2e-6), loss='binary_crossentropy', metrics=['accuracy'])\n",
        "    \n",
        "    return model"
      ],
      "metadata": {
        "id": "uZN35PvRcF90"
      },
      "execution_count": 6,
      "outputs": []
    },
    {
      "cell_type": "code",
      "source": [
        "%%time\n",
        "module_url = \"https://tfhub.dev/tensorflow/bert_en_uncased_L-24_H-1024_A-16/1\"\n",
        "bert_layer = hub.KerasLayer(module_url, trainable=True)"
      ],
      "metadata": {
        "colab": {
          "base_uri": "https://localhost:8080/"
        },
        "id": "eafuu7V8cHL9",
        "outputId": "327f9af4-9e0a-442f-ac4f-aab0fdb7a106"
      },
      "execution_count": 7,
      "outputs": [
        {
          "output_type": "stream",
          "name": "stdout",
          "text": [
            "CPU times: user 24.3 s, sys: 5.01 s, total: 29.3 s\n",
            "Wall time: 30.9 s\n"
          ]
        }
      ]
    },
    {
      "cell_type": "code",
      "source": [
        "train = pd.read_csv(\"train.csv\")\n",
        "test = pd.read_csv(\"test.csv\")\n",
        "submission = pd.read_csv(\"sample_submission.csv\")"
      ],
      "metadata": {
        "id": "O7MJHrnGcISe"
      },
      "execution_count": 8,
      "outputs": []
    },
    {
      "cell_type": "code",
      "source": [
        "vocab_file = bert_layer.resolved_object.vocab_file.asset_path.numpy()\n",
        "do_lower_case = bert_layer.resolved_object.do_lower_case.numpy()\n",
        "tokenizer = tokenization.FullTokenizer(vocab_file, do_lower_case)"
      ],
      "metadata": {
        "id": "U4tQ8D7ZcS1z"
      },
      "execution_count": 9,
      "outputs": []
    },
    {
      "cell_type": "code",
      "source": [
        "train_input = bert_encode(train.text.values, tokenizer, max_len=160)\n",
        "test_input = bert_encode(test.text.values, tokenizer, max_len=160)\n",
        "train_labels = train.target.values"
      ],
      "metadata": {
        "id": "iiRommeRcujM"
      },
      "execution_count": 10,
      "outputs": []
    },
    {
      "cell_type": "code",
      "source": [
        "model = build_model(bert_layer, max_len=160)\n",
        "model.summary()"
      ],
      "metadata": {
        "colab": {
          "base_uri": "https://localhost:8080/"
        },
        "id": "QLPcQOmNcv0N",
        "outputId": "bd43ebca-43c0-46ae-a64f-d0613b784746"
      },
      "execution_count": 11,
      "outputs": [
        {
          "output_type": "stream",
          "name": "stdout",
          "text": [
            "Model: \"model\"\n",
            "__________________________________________________________________________________________________\n",
            " Layer (type)                   Output Shape         Param #     Connected to                     \n",
            "==================================================================================================\n",
            " input_word_ids (InputLayer)    [(None, 160)]        0           []                               \n",
            "                                                                                                  \n",
            " input_mask (InputLayer)        [(None, 160)]        0           []                               \n",
            "                                                                                                  \n",
            " segment_ids (InputLayer)       [(None, 160)]        0           []                               \n",
            "                                                                                                  \n",
            " keras_layer (KerasLayer)       [(None, 1024),       335141889   ['input_word_ids[0][0]',         \n",
            "                                 (None, 160, 1024)]               'input_mask[0][0]',             \n",
            "                                                                  'segment_ids[0][0]']            \n",
            "                                                                                                  \n",
            " tf.__operators__.getitem (Slic  (None, 1024)        0           ['keras_layer[0][1]']            \n",
            " ingOpLambda)                                                                                     \n",
            "                                                                                                  \n",
            " dense (Dense)                  (None, 1)            1025        ['tf.__operators__.getitem[0][0]'\n",
            "                                                                 ]                                \n",
            "                                                                                                  \n",
            "==================================================================================================\n",
            "Total params: 335,142,914\n",
            "Trainable params: 335,142,913\n",
            "Non-trainable params: 1\n",
            "__________________________________________________________________________________________________\n"
          ]
        },
        {
          "output_type": "stream",
          "name": "stderr",
          "text": [
            "/usr/local/lib/python3.7/dist-packages/keras/optimizer_v2/adam.py:105: UserWarning: The `lr` argument is deprecated, use `learning_rate` instead.\n",
            "  super(Adam, self).__init__(name, **kwargs)\n"
          ]
        }
      ]
    },
    {
      "cell_type": "code",
      "source": [
        "train_history = model.fit(\n",
        "    train_input, train_labels,\n",
        "    validation_split=0.2,\n",
        "    epochs=3,\n",
        "    batch_size=16\n",
        ")\n",
        "\n",
        "model.save('model.h5')"
      ],
      "metadata": {
        "colab": {
          "base_uri": "https://localhost:8080/"
        },
        "id": "rNUPEEYlgDxM",
        "outputId": "932c7572-71b3-4f5d-fdeb-7231fdc87496"
      },
      "execution_count": 12,
      "outputs": [
        {
          "output_type": "stream",
          "name": "stdout",
          "text": [
            "Epoch 1/3\n",
            "381/381 [==============================] - 691s 2s/step - loss: 0.4811 - accuracy: 0.7762 - val_loss: 0.4117 - val_accuracy: 0.8221\n",
            "Epoch 2/3\n",
            "381/381 [==============================] - 659s 2s/step - loss: 0.3436 - accuracy: 0.8588 - val_loss: 0.4031 - val_accuracy: 0.8273\n",
            "Epoch 3/3\n",
            "381/381 [==============================] - 659s 2s/step - loss: 0.2669 - accuracy: 0.8972 - val_loss: 0.4233 - val_accuracy: 0.8273\n"
          ]
        }
      ]
    },
    {
      "cell_type": "code",
      "source": [
        "test_pred = model.predict(test_input)"
      ],
      "metadata": {
        "id": "cYqqQF_DgGJt"
      },
      "execution_count": 13,
      "outputs": []
    },
    {
      "cell_type": "code",
      "source": [
        "submission['target'] = test_pred.round().astype(int)\n",
        "submission.to_csv('submission.csv', index=False)"
      ],
      "metadata": {
        "id": "XO2mny_5gHbk"
      },
      "execution_count": 14,
      "outputs": []
    },
    {
      "cell_type": "code",
      "source": [
        "submission.head()"
      ],
      "metadata": {
        "colab": {
          "base_uri": "https://localhost:8080/",
          "height": 206
        },
        "id": "oUIMbmaRgI8n",
        "outputId": "a692baac-54b9-4382-8a49-e8ba0263c946"
      },
      "execution_count": 15,
      "outputs": [
        {
          "output_type": "execute_result",
          "data": {
            "text/html": [
              "\n",
              "  <div id=\"df-506ac24b-0f82-4f7f-8832-3e223e0f78bf\">\n",
              "    <div class=\"colab-df-container\">\n",
              "      <div>\n",
              "<style scoped>\n",
              "    .dataframe tbody tr th:only-of-type {\n",
              "        vertical-align: middle;\n",
              "    }\n",
              "\n",
              "    .dataframe tbody tr th {\n",
              "        vertical-align: top;\n",
              "    }\n",
              "\n",
              "    .dataframe thead th {\n",
              "        text-align: right;\n",
              "    }\n",
              "</style>\n",
              "<table border=\"1\" class=\"dataframe\">\n",
              "  <thead>\n",
              "    <tr style=\"text-align: right;\">\n",
              "      <th></th>\n",
              "      <th>id</th>\n",
              "      <th>target</th>\n",
              "    </tr>\n",
              "  </thead>\n",
              "  <tbody>\n",
              "    <tr>\n",
              "      <th>0</th>\n",
              "      <td>0</td>\n",
              "      <td>0</td>\n",
              "    </tr>\n",
              "    <tr>\n",
              "      <th>1</th>\n",
              "      <td>2</td>\n",
              "      <td>1</td>\n",
              "    </tr>\n",
              "    <tr>\n",
              "      <th>2</th>\n",
              "      <td>3</td>\n",
              "      <td>1</td>\n",
              "    </tr>\n",
              "    <tr>\n",
              "      <th>3</th>\n",
              "      <td>9</td>\n",
              "      <td>1</td>\n",
              "    </tr>\n",
              "    <tr>\n",
              "      <th>4</th>\n",
              "      <td>11</td>\n",
              "      <td>1</td>\n",
              "    </tr>\n",
              "  </tbody>\n",
              "</table>\n",
              "</div>\n",
              "      <button class=\"colab-df-convert\" onclick=\"convertToInteractive('df-506ac24b-0f82-4f7f-8832-3e223e0f78bf')\"\n",
              "              title=\"Convert this dataframe to an interactive table.\"\n",
              "              style=\"display:none;\">\n",
              "        \n",
              "  <svg xmlns=\"http://www.w3.org/2000/svg\" height=\"24px\"viewBox=\"0 0 24 24\"\n",
              "       width=\"24px\">\n",
              "    <path d=\"M0 0h24v24H0V0z\" fill=\"none\"/>\n",
              "    <path d=\"M18.56 5.44l.94 2.06.94-2.06 2.06-.94-2.06-.94-.94-2.06-.94 2.06-2.06.94zm-11 1L8.5 8.5l.94-2.06 2.06-.94-2.06-.94L8.5 2.5l-.94 2.06-2.06.94zm10 10l.94 2.06.94-2.06 2.06-.94-2.06-.94-.94-2.06-.94 2.06-2.06.94z\"/><path d=\"M17.41 7.96l-1.37-1.37c-.4-.4-.92-.59-1.43-.59-.52 0-1.04.2-1.43.59L10.3 9.45l-7.72 7.72c-.78.78-.78 2.05 0 2.83L4 21.41c.39.39.9.59 1.41.59.51 0 1.02-.2 1.41-.59l7.78-7.78 2.81-2.81c.8-.78.8-2.07 0-2.86zM5.41 20L4 18.59l7.72-7.72 1.47 1.35L5.41 20z\"/>\n",
              "  </svg>\n",
              "      </button>\n",
              "      \n",
              "  <style>\n",
              "    .colab-df-container {\n",
              "      display:flex;\n",
              "      flex-wrap:wrap;\n",
              "      gap: 12px;\n",
              "    }\n",
              "\n",
              "    .colab-df-convert {\n",
              "      background-color: #E8F0FE;\n",
              "      border: none;\n",
              "      border-radius: 50%;\n",
              "      cursor: pointer;\n",
              "      display: none;\n",
              "      fill: #1967D2;\n",
              "      height: 32px;\n",
              "      padding: 0 0 0 0;\n",
              "      width: 32px;\n",
              "    }\n",
              "\n",
              "    .colab-df-convert:hover {\n",
              "      background-color: #E2EBFA;\n",
              "      box-shadow: 0px 1px 2px rgba(60, 64, 67, 0.3), 0px 1px 3px 1px rgba(60, 64, 67, 0.15);\n",
              "      fill: #174EA6;\n",
              "    }\n",
              "\n",
              "    [theme=dark] .colab-df-convert {\n",
              "      background-color: #3B4455;\n",
              "      fill: #D2E3FC;\n",
              "    }\n",
              "\n",
              "    [theme=dark] .colab-df-convert:hover {\n",
              "      background-color: #434B5C;\n",
              "      box-shadow: 0px 1px 3px 1px rgba(0, 0, 0, 0.15);\n",
              "      filter: drop-shadow(0px 1px 2px rgba(0, 0, 0, 0.3));\n",
              "      fill: #FFFFFF;\n",
              "    }\n",
              "  </style>\n",
              "\n",
              "      <script>\n",
              "        const buttonEl =\n",
              "          document.querySelector('#df-506ac24b-0f82-4f7f-8832-3e223e0f78bf button.colab-df-convert');\n",
              "        buttonEl.style.display =\n",
              "          google.colab.kernel.accessAllowed ? 'block' : 'none';\n",
              "\n",
              "        async function convertToInteractive(key) {\n",
              "          const element = document.querySelector('#df-506ac24b-0f82-4f7f-8832-3e223e0f78bf');\n",
              "          const dataTable =\n",
              "            await google.colab.kernel.invokeFunction('convertToInteractive',\n",
              "                                                     [key], {});\n",
              "          if (!dataTable) return;\n",
              "\n",
              "          const docLinkHtml = 'Like what you see? Visit the ' +\n",
              "            '<a target=\"_blank\" href=https://colab.research.google.com/notebooks/data_table.ipynb>data table notebook</a>'\n",
              "            + ' to learn more about interactive tables.';\n",
              "          element.innerHTML = '';\n",
              "          dataTable['output_type'] = 'display_data';\n",
              "          await google.colab.output.renderOutput(dataTable, element);\n",
              "          const docLink = document.createElement('div');\n",
              "          docLink.innerHTML = docLinkHtml;\n",
              "          element.appendChild(docLink);\n",
              "        }\n",
              "      </script>\n",
              "    </div>\n",
              "  </div>\n",
              "  "
            ],
            "text/plain": [
              "   id  target\n",
              "0   0       0\n",
              "1   2       1\n",
              "2   3       1\n",
              "3   9       1\n",
              "4  11       1"
            ]
          },
          "metadata": {},
          "execution_count": 15
        }
      ]
    }
  ]
}