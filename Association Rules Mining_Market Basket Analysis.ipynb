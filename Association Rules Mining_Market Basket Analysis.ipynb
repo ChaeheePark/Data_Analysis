{
 "cells": [
  {
   "cell_type": "code",
   "execution_count": 11,
   "metadata": {},
   "outputs": [
    {
     "name": "stdout",
     "output_type": "stream",
     "text": [
      "orders print\\m [[1 'apple']\n",
      " [1 'egg']\n",
      " [1 'milk']\n",
      " [2 'egg']\n",
      " [2 'milk']]\n",
      "item_list print\n",
      " ['apple', 'egg', 'milk']\n",
      "item_pair print ('apple', 'egg')\n",
      "item_pair print ('apple', 'milk')\n",
      "item_pair print ('egg', 'milk')\n",
      "item_list print\n",
      " ['egg', 'milk']\n",
      "item_pair print ('egg', 'milk')\n"
     ]
    },
    {
     "data": {
      "text/plain": [
       "Counter({('apple', 'egg'): 1, ('apple', 'milk'): 1, ('egg', 'milk'): 2})"
      ]
     },
     "execution_count": 11,
     "metadata": {},
     "output_type": "execute_result"
    }
   ],
   "source": [
    "#data set 사이의 연관성을 찾는 과정\n",
    "import numpy as np\n",
    "from itertools import combinations, groupby\n",
    "from collections import Counter\n",
    "\n",
    "# Sample data\n",
    "orders = np.array([[1,'apple'], [1,'egg'], [1,'milk'], [2,'egg'], [2,'milk']], dtype=object)\n",
    "print('orders print\\m',orders)\n",
    "# Generator that yields item pairs, one at a time\n",
    "def get_item_pairs(order_item):\n",
    "    \n",
    "    # For each order, generate a list of items in that order\n",
    "    for order_id, order_object in groupby(orders, lambda x: x[0]):\n",
    "    #orders의 [0]번쨰가 같은 것 끼리 item_list에 넣어라\n",
    "        item_list = [item[1] for item in order_object]\n",
    "        print('item_list print\\n',item_list)\n",
    "        \n",
    "        # For each item list, generate item pairs, one at a time\n",
    "        for item_pair in combinations(item_list, 2):\n",
    "        #item_list에 들어있는 값을 2개로 combination 시킴\n",
    "            yield item_pair \n",
    "            #vector type 의 instance로 변환\n",
    "            print('item_pair print',item_pair)\n",
    "            \n",
    "# Counter iterates through the item pairs returned by our generator and keeps a tally of their occurrence\n",
    "Counter(get_item_pairs(orders))\n",
    "#조합이 모두 몇개가 있는지"
   ]
  },
  {
   "cell_type": "code",
   "execution_count": null,
   "metadata": {},
   "outputs": [],
   "source": [
    "**아프리오리 알고리즘: 연관성을 찾음**\n",
    "order 1: apple, egg, milk  \n",
    "order 2: carrot, milk  \n",
    "order 3: apple, egg, carrot\n",
    "order 4: apple, egg\n",
    "order 5: apple, carrot\n",
    "\n",
    "5개의 order을 하나씩 분석해서 최소 3개 이상인 물품들만 골라냄\n",
    "Iteration 1:  Count the number of times each item occurs   \n",
    "item set      occurrence count    \n",
    "{apple}              4   \n",
    "{egg}                3   \n",
    "{milk}               2   \n",
    "{carrot}             2   \n",
    "\n",
    "{milk} and {carrot} are eliminated because they do not meet the minimum occurrence threshold.\n",
    "\n",
    "그래서 나온 apple과 egg를 하나의 set으로 만들고, 이 쌍이 총 3개가 존재한다는 것을 확인\n",
    "Iteration 2: Build item sets of size 2 using the remaining items from Iteration 1 \n",
    "             (ie: apple, egg)  \n",
    "item set           occurence count  \n",
    "{apple, egg}             3  \n",
    "\n",
    "Only {apple, egg} remains and the algorithm stops since there are no more items to add.\n",
    "\n",
    "\n",
    "아프리오리 알고리즘은 3단계로 이루어져 있음\n",
    "1) support\n",
    "- 전체 중 특정 set의 비율\n",
    "위의 예는 60% (apple,egg / 전체)\n",
    "2) confidence\n",
    "-  set의 하나가 set와 연관되어 있을 확률\n",
    "confidence{A->B} = support{A,B} / support{A}   \n",
    "confidence{B->A} = support{A,B} / support{B}   \n",
    "confidence{apple->egg} = support{apple,egg} / support{apple}\n",
    "                                    = (3/5) / (4/5)\n",
    "                                    = 0.75 or 75%\n",
    "confidence{egg->apple} = support{apple,egg} / support{egg}\n",
    "                                    = (3/5) / (3/5)\n",
    "                                    = 1 or 100%  \n",
    "3) lift\n",
    "lift{A,B} = lift{B,A} = support{A,B} / (support{A} * support{B})   \n",
    "lift{apple,egg} = lift{egg,apple} = support{apple,egg} / (support{apple} * support{egg})\n",
    "                  = (3/5) / (4/5 * 3/5) \n",
    "                  = 1.25    \n",
    " * lift = 1 implies no relationship between A and B. \n",
    "   (ie: A and B occur together only by chance)\n",
    "\n",
    " * lift > 1 implies that there is a positive relationship between A and B.\n",
    "   (ie:  A and B occur together more often than random)\n",
    "\n",
    " * lift < 1 implies that there is a negative relationship between A and B.\n",
    "   (ie:  A and B occur together less often than random)\n",
    "\n",
    "결론 : we conclude that there exists a positive relationship between them."
   ]
  }
 ],
 "metadata": {
  "kernelspec": {
   "display_name": "Python 3",
   "language": "python",
   "name": "python3"
  },
  "language_info": {
   "codemirror_mode": {
    "name": "ipython",
    "version": 3
   },
   "file_extension": ".py",
   "mimetype": "text/x-python",
   "name": "python",
   "nbconvert_exporter": "python",
   "pygments_lexer": "ipython3",
   "version": "3.7.9"
  }
 },
 "nbformat": 4,
 "nbformat_minor": 4
}
