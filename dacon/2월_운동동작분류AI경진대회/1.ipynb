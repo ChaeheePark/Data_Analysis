{
 "cells": [
  {
   "cell_type": "code",
   "execution_count": 36,
   "metadata": {},
   "outputs": [],
   "source": [
    "import pandas as pd\n",
    "import matplotlib.pyplot as plt\n",
    "import lightgbm as lgb\n",
    "import numpy as np\n",
    "import seaborn as sns\n",
    "from sklearn.metrics import accuracy_score\n",
    "from sklearn.metrics import mean_squared_error\n",
    "from sklearn.model_selection import cross_val_score\n",
    "from sklearn.metrics import confusion_matrix\n",
    "from collections import Counter\n",
    "from IPython.core.display import display, HTML\n",
    "\n",
    "train=pd.read_csv('C:/Users/chaeh/train_features.csv')\n",
    "train_labels=pd.read_csv('C:/Users/chaeh/train_labels.csv')\n",
    "test=pd.read_csv('C:/Users/chaeh/test_features.csv')\n",
    "submission=pd.read_csv('C:/Users/chaeh/sample_submission.csv')"
   ]
  },
  {
   "cell_type": "code",
   "execution_count": 37,
   "metadata": {},
   "outputs": [
    {
     "data": {
      "text/html": [
       "<div>\n",
       "<style scoped>\n",
       "    .dataframe tbody tr th:only-of-type {\n",
       "        vertical-align: middle;\n",
       "    }\n",
       "\n",
       "    .dataframe tbody tr th {\n",
       "        vertical-align: top;\n",
       "    }\n",
       "\n",
       "    .dataframe thead th {\n",
       "        text-align: right;\n",
       "    }\n",
       "</style>\n",
       "<table border=\"1\" class=\"dataframe\">\n",
       "  <thead>\n",
       "    <tr style=\"text-align: right;\">\n",
       "      <th></th>\n",
       "      <th>id</th>\n",
       "      <th>time</th>\n",
       "      <th>acc_x</th>\n",
       "      <th>acc_y</th>\n",
       "      <th>acc_z</th>\n",
       "      <th>gy_x</th>\n",
       "      <th>gy_y</th>\n",
       "      <th>gy_z</th>\n",
       "    </tr>\n",
       "  </thead>\n",
       "  <tbody>\n",
       "    <tr>\n",
       "      <th>0</th>\n",
       "      <td>0</td>\n",
       "      <td>0</td>\n",
       "      <td>1.206087</td>\n",
       "      <td>-0.179371</td>\n",
       "      <td>-0.148447</td>\n",
       "      <td>-0.591608</td>\n",
       "      <td>-30.549010</td>\n",
       "      <td>-31.676112</td>\n",
       "    </tr>\n",
       "    <tr>\n",
       "      <th>1</th>\n",
       "      <td>0</td>\n",
       "      <td>1</td>\n",
       "      <td>1.287696</td>\n",
       "      <td>-0.198974</td>\n",
       "      <td>-0.182444</td>\n",
       "      <td>0.303100</td>\n",
       "      <td>-39.139103</td>\n",
       "      <td>-24.927216</td>\n",
       "    </tr>\n",
       "    <tr>\n",
       "      <th>2</th>\n",
       "      <td>0</td>\n",
       "      <td>2</td>\n",
       "      <td>1.304609</td>\n",
       "      <td>-0.195114</td>\n",
       "      <td>-0.253382</td>\n",
       "      <td>-3.617278</td>\n",
       "      <td>-44.122565</td>\n",
       "      <td>-25.019629</td>\n",
       "    </tr>\n",
       "    <tr>\n",
       "      <th>3</th>\n",
       "      <td>0</td>\n",
       "      <td>3</td>\n",
       "      <td>1.293095</td>\n",
       "      <td>-0.230366</td>\n",
       "      <td>-0.215210</td>\n",
       "      <td>2.712986</td>\n",
       "      <td>-53.597843</td>\n",
       "      <td>-27.454013</td>\n",
       "    </tr>\n",
       "    <tr>\n",
       "      <th>4</th>\n",
       "      <td>0</td>\n",
       "      <td>4</td>\n",
       "      <td>1.300887</td>\n",
       "      <td>-0.187757</td>\n",
       "      <td>-0.222523</td>\n",
       "      <td>4.286707</td>\n",
       "      <td>-57.906561</td>\n",
       "      <td>-27.961234</td>\n",
       "    </tr>\n",
       "  </tbody>\n",
       "</table>\n",
       "</div>"
      ],
      "text/plain": [
       "   id  time     acc_x     acc_y     acc_z      gy_x       gy_y       gy_z\n",
       "0   0     0  1.206087 -0.179371 -0.148447 -0.591608 -30.549010 -31.676112\n",
       "1   0     1  1.287696 -0.198974 -0.182444  0.303100 -39.139103 -24.927216\n",
       "2   0     2  1.304609 -0.195114 -0.253382 -3.617278 -44.122565 -25.019629\n",
       "3   0     3  1.293095 -0.230366 -0.215210  2.712986 -53.597843 -27.454013\n",
       "4   0     4  1.300887 -0.187757 -0.222523  4.286707 -57.906561 -27.961234"
      ]
     },
     "execution_count": 37,
     "metadata": {},
     "output_type": "execute_result"
    }
   ],
   "source": [
    "train.head()"
   ]
  },
  {
   "cell_type": "code",
   "execution_count": 38,
   "metadata": {},
   "outputs": [
    {
     "data": {
      "text/plain": [
       "0                Shoulder Press (dumbbell)\n",
       "1                             Non-Exercise\n",
       "2                       Biceps Curl (band)\n",
       "3                             Non-Exercise\n",
       "4                             Non-Exercise\n",
       "                       ...                \n",
       "3120                          Non-Exercise\n",
       "3121                          Non-Exercise\n",
       "3122    Dynamic Stretch (at your own pace)\n",
       "3123                          Non-Exercise\n",
       "3124                            Bicep Curl\n",
       "Name: label_desc, Length: 3125, dtype: object"
      ]
     },
     "execution_count": 38,
     "metadata": {},
     "output_type": "execute_result"
    }
   ],
   "source": [
    "train_labels['label_desc']"
   ]
  },
  {
   "cell_type": "code",
   "execution_count": 39,
   "metadata": {},
   "outputs": [
    {
     "data": {
      "text/plain": [
       "Index(['id', 'label', 'label_desc'], dtype='object')"
      ]
     },
     "execution_count": 39,
     "metadata": {},
     "output_type": "execute_result"
    }
   ],
   "source": [
    "train_labels.columns"
   ]
  },
  {
   "cell_type": "code",
   "execution_count": 40,
   "metadata": {},
   "outputs": [
    {
     "data": {
      "text/plain": [
       "Index(['id', 'time', 'acc_x', 'acc_y', 'acc_z', 'gy_x', 'gy_y', 'gy_z'], dtype='object')"
      ]
     },
     "execution_count": 40,
     "metadata": {},
     "output_type": "execute_result"
    }
   ],
   "source": [
    "train.columns"
   ]
  },
  {
   "cell_type": "code",
   "execution_count": 48,
   "metadata": {},
   "outputs": [],
   "source": [
    "train_labels_merge=pd.merge(train,train_labels,on=\"id\")\n",
    "features = ['id', 'acc_x', 'acc_y', 'acc_z', 'gy_x', 'gy_y', 'gy_z']"
   ]
  },
  {
   "cell_type": "code",
   "execution_count": 49,
   "metadata": {},
   "outputs": [
    {
     "data": {
      "text/html": [
       "<div>\n",
       "<style scoped>\n",
       "    .dataframe tbody tr th:only-of-type {\n",
       "        vertical-align: middle;\n",
       "    }\n",
       "\n",
       "    .dataframe tbody tr th {\n",
       "        vertical-align: top;\n",
       "    }\n",
       "\n",
       "    .dataframe thead th {\n",
       "        text-align: right;\n",
       "    }\n",
       "</style>\n",
       "<table border=\"1\" class=\"dataframe\">\n",
       "  <thead>\n",
       "    <tr style=\"text-align: right;\">\n",
       "      <th></th>\n",
       "      <th>acc_x</th>\n",
       "      <th>acc_y</th>\n",
       "      <th>acc_z</th>\n",
       "      <th>gy_x</th>\n",
       "      <th>gy_y</th>\n",
       "      <th>gy_z</th>\n",
       "    </tr>\n",
       "    <tr>\n",
       "      <th>id</th>\n",
       "      <th></th>\n",
       "      <th></th>\n",
       "      <th></th>\n",
       "      <th></th>\n",
       "      <th></th>\n",
       "      <th></th>\n",
       "    </tr>\n",
       "  </thead>\n",
       "  <tbody>\n",
       "    <tr>\n",
       "      <th>0</th>\n",
       "      <td>1.344268</td>\n",
       "      <td>0.176871</td>\n",
       "      <td>-0.054876</td>\n",
       "      <td>31.644123</td>\n",
       "      <td>69.847244</td>\n",
       "      <td>55.953827</td>\n",
       "    </tr>\n",
       "    <tr>\n",
       "      <th>1</th>\n",
       "      <td>1.234020</td>\n",
       "      <td>0.700065</td>\n",
       "      <td>0.888661</td>\n",
       "      <td>286.624363</td>\n",
       "      <td>389.608060</td>\n",
       "      <td>340.170199</td>\n",
       "    </tr>\n",
       "    <tr>\n",
       "      <th>2</th>\n",
       "      <td>1.219836</td>\n",
       "      <td>0.650645</td>\n",
       "      <td>1.332992</td>\n",
       "      <td>73.525082</td>\n",
       "      <td>297.320834</td>\n",
       "      <td>55.642836</td>\n",
       "    </tr>\n",
       "    <tr>\n",
       "      <th>3</th>\n",
       "      <td>-0.622250</td>\n",
       "      <td>0.283721</td>\n",
       "      <td>0.598814</td>\n",
       "      <td>192.765368</td>\n",
       "      <td>159.083788</td>\n",
       "      <td>56.456908</td>\n",
       "    </tr>\n",
       "    <tr>\n",
       "      <th>4</th>\n",
       "      <td>0.599720</td>\n",
       "      <td>1.724782</td>\n",
       "      <td>2.678034</td>\n",
       "      <td>613.972600</td>\n",
       "      <td>284.952954</td>\n",
       "      <td>221.015193</td>\n",
       "    </tr>\n",
       "    <tr>\n",
       "      <th>...</th>\n",
       "      <td>...</td>\n",
       "      <td>...</td>\n",
       "      <td>...</td>\n",
       "      <td>...</td>\n",
       "      <td>...</td>\n",
       "      <td>...</td>\n",
       "    </tr>\n",
       "    <tr>\n",
       "      <th>3120</th>\n",
       "      <td>0.390798</td>\n",
       "      <td>0.168070</td>\n",
       "      <td>0.849966</td>\n",
       "      <td>148.152235</td>\n",
       "      <td>134.585268</td>\n",
       "      <td>121.958427</td>\n",
       "    </tr>\n",
       "    <tr>\n",
       "      <th>3121</th>\n",
       "      <td>-0.446650</td>\n",
       "      <td>0.117965</td>\n",
       "      <td>0.218621</td>\n",
       "      <td>155.958950</td>\n",
       "      <td>53.341929</td>\n",
       "      <td>57.349878</td>\n",
       "    </tr>\n",
       "    <tr>\n",
       "      <th>3122</th>\n",
       "      <td>0.744666</td>\n",
       "      <td>1.268138</td>\n",
       "      <td>0.803950</td>\n",
       "      <td>400.662632</td>\n",
       "      <td>388.749570</td>\n",
       "      <td>453.943910</td>\n",
       "    </tr>\n",
       "    <tr>\n",
       "      <th>3123</th>\n",
       "      <td>0.915846</td>\n",
       "      <td>1.473727</td>\n",
       "      <td>0.382916</td>\n",
       "      <td>168.716922</td>\n",
       "      <td>319.723456</td>\n",
       "      <td>310.558507</td>\n",
       "    </tr>\n",
       "    <tr>\n",
       "      <th>3124</th>\n",
       "      <td>0.538809</td>\n",
       "      <td>-0.193247</td>\n",
       "      <td>0.543977</td>\n",
       "      <td>52.957569</td>\n",
       "      <td>90.173541</td>\n",
       "      <td>80.302840</td>\n",
       "    </tr>\n",
       "  </tbody>\n",
       "</table>\n",
       "<p>3125 rows × 6 columns</p>\n",
       "</div>"
      ],
      "text/plain": [
       "         acc_x     acc_y     acc_z        gy_x        gy_y        gy_z\n",
       "id                                                                    \n",
       "0     1.344268  0.176871 -0.054876   31.644123   69.847244   55.953827\n",
       "1     1.234020  0.700065  0.888661  286.624363  389.608060  340.170199\n",
       "2     1.219836  0.650645  1.332992   73.525082  297.320834   55.642836\n",
       "3    -0.622250  0.283721  0.598814  192.765368  159.083788   56.456908\n",
       "4     0.599720  1.724782  2.678034  613.972600  284.952954  221.015193\n",
       "...        ...       ...       ...         ...         ...         ...\n",
       "3120  0.390798  0.168070  0.849966  148.152235  134.585268  121.958427\n",
       "3121 -0.446650  0.117965  0.218621  155.958950   53.341929   57.349878\n",
       "3122  0.744666  1.268138  0.803950  400.662632  388.749570  453.943910\n",
       "3123  0.915846  1.473727  0.382916  168.716922  319.723456  310.558507\n",
       "3124  0.538809 -0.193247  0.543977   52.957569   90.173541   80.302840\n",
       "\n",
       "[3125 rows x 6 columns]"
      ]
     },
     "execution_count": 49,
     "metadata": {},
     "output_type": "execute_result"
    }
   ],
   "source": [
    "train[features].groupby('id').max() #time중 가장 max인 것 .."
   ]
  },
  {
   "cell_type": "code",
   "execution_count": 50,
   "metadata": {},
   "outputs": [
    {
     "data": {
      "text/html": [
       "<div>\n",
       "<style scoped>\n",
       "    .dataframe tbody tr th:only-of-type {\n",
       "        vertical-align: middle;\n",
       "    }\n",
       "\n",
       "    .dataframe tbody tr th {\n",
       "        vertical-align: top;\n",
       "    }\n",
       "\n",
       "    .dataframe thead th {\n",
       "        text-align: right;\n",
       "    }\n",
       "</style>\n",
       "<table border=\"1\" class=\"dataframe\">\n",
       "  <thead>\n",
       "    <tr style=\"text-align: right;\">\n",
       "      <th></th>\n",
       "      <th>acc_x</th>\n",
       "      <th>acc_y</th>\n",
       "      <th>acc_z</th>\n",
       "      <th>gy_x</th>\n",
       "      <th>gy_y</th>\n",
       "      <th>gy_z</th>\n",
       "    </tr>\n",
       "    <tr>\n",
       "      <th>id</th>\n",
       "      <th></th>\n",
       "      <th></th>\n",
       "      <th></th>\n",
       "      <th></th>\n",
       "      <th></th>\n",
       "      <th></th>\n",
       "    </tr>\n",
       "  </thead>\n",
       "  <tbody>\n",
       "    <tr>\n",
       "      <th>0</th>\n",
       "      <td>0.931329</td>\n",
       "      <td>-0.218471</td>\n",
       "      <td>-0.370422</td>\n",
       "      <td>-1.865269</td>\n",
       "      <td>-3.359506</td>\n",
       "      <td>1.182107</td>\n",
       "    </tr>\n",
       "    <tr>\n",
       "      <th>1</th>\n",
       "      <td>-0.766580</td>\n",
       "      <td>-0.317258</td>\n",
       "      <td>-0.004223</td>\n",
       "      <td>11.071600</td>\n",
       "      <td>1.740475</td>\n",
       "      <td>1.393294</td>\n",
       "    </tr>\n",
       "    <tr>\n",
       "      <th>2</th>\n",
       "      <td>0.039836</td>\n",
       "      <td>-0.082403</td>\n",
       "      <td>0.626012</td>\n",
       "      <td>-8.472951</td>\n",
       "      <td>0.597877</td>\n",
       "      <td>3.053291</td>\n",
       "    </tr>\n",
       "    <tr>\n",
       "      <th>3</th>\n",
       "      <td>-0.887702</td>\n",
       "      <td>-0.087668</td>\n",
       "      <td>0.227357</td>\n",
       "      <td>17.744167</td>\n",
       "      <td>4.800931</td>\n",
       "      <td>-5.869898</td>\n",
       "    </tr>\n",
       "    <tr>\n",
       "      <th>4</th>\n",
       "      <td>-0.659018</td>\n",
       "      <td>-0.337067</td>\n",
       "      <td>0.202758</td>\n",
       "      <td>-4.819638</td>\n",
       "      <td>9.651713</td>\n",
       "      <td>4.453382</td>\n",
       "    </tr>\n",
       "    <tr>\n",
       "      <th>...</th>\n",
       "      <td>...</td>\n",
       "      <td>...</td>\n",
       "      <td>...</td>\n",
       "      <td>...</td>\n",
       "      <td>...</td>\n",
       "      <td>...</td>\n",
       "    </tr>\n",
       "    <tr>\n",
       "      <th>3120</th>\n",
       "      <td>-0.300454</td>\n",
       "      <td>-0.669209</td>\n",
       "      <td>0.335934</td>\n",
       "      <td>-5.382982</td>\n",
       "      <td>-4.902798</td>\n",
       "      <td>-0.054026</td>\n",
       "    </tr>\n",
       "    <tr>\n",
       "      <th>3121</th>\n",
       "      <td>-0.974298</td>\n",
       "      <td>-0.233373</td>\n",
       "      <td>-0.073771</td>\n",
       "      <td>11.394976</td>\n",
       "      <td>3.786842</td>\n",
       "      <td>-2.792238</td>\n",
       "    </tr>\n",
       "    <tr>\n",
       "      <th>3122</th>\n",
       "      <td>-1.114246</td>\n",
       "      <td>-0.362196</td>\n",
       "      <td>0.241518</td>\n",
       "      <td>-3.821330</td>\n",
       "      <td>10.172169</td>\n",
       "      <td>-1.722830</td>\n",
       "    </tr>\n",
       "    <tr>\n",
       "      <th>3123</th>\n",
       "      <td>-0.111333</td>\n",
       "      <td>0.880362</td>\n",
       "      <td>-0.122757</td>\n",
       "      <td>-6.223759</td>\n",
       "      <td>-11.608354</td>\n",
       "      <td>-5.930252</td>\n",
       "    </tr>\n",
       "    <tr>\n",
       "      <th>3124</th>\n",
       "      <td>-0.434048</td>\n",
       "      <td>-0.623010</td>\n",
       "      <td>0.226848</td>\n",
       "      <td>-1.638705</td>\n",
       "      <td>-1.226870</td>\n",
       "      <td>-3.246825</td>\n",
       "    </tr>\n",
       "  </tbody>\n",
       "</table>\n",
       "<p>3125 rows × 6 columns</p>\n",
       "</div>"
      ],
      "text/plain": [
       "         acc_x     acc_y     acc_z       gy_x       gy_y      gy_z\n",
       "id                                                                \n",
       "0     0.931329 -0.218471 -0.370422  -1.865269  -3.359506  1.182107\n",
       "1    -0.766580 -0.317258 -0.004223  11.071600   1.740475  1.393294\n",
       "2     0.039836 -0.082403  0.626012  -8.472951   0.597877  3.053291\n",
       "3    -0.887702 -0.087668  0.227357  17.744167   4.800931 -5.869898\n",
       "4    -0.659018 -0.337067  0.202758  -4.819638   9.651713  4.453382\n",
       "...        ...       ...       ...        ...        ...       ...\n",
       "3120 -0.300454 -0.669209  0.335934  -5.382982  -4.902798 -0.054026\n",
       "3121 -0.974298 -0.233373 -0.073771  11.394976   3.786842 -2.792238\n",
       "3122 -1.114246 -0.362196  0.241518  -3.821330  10.172169 -1.722830\n",
       "3123 -0.111333  0.880362 -0.122757  -6.223759 -11.608354 -5.930252\n",
       "3124 -0.434048 -0.623010  0.226848  -1.638705  -1.226870 -3.246825\n",
       "\n",
       "[3125 rows x 6 columns]"
      ]
     },
     "execution_count": 50,
     "metadata": {},
     "output_type": "execute_result"
    }
   ],
   "source": [
    "X_train=train[features].groupby('id').mean() #time의 평균\n",
    "X_train"
   ]
  },
  {
   "cell_type": "code",
   "execution_count": 51,
   "metadata": {},
   "outputs": [
    {
     "data": {
      "text/html": [
       "<div>\n",
       "<style scoped>\n",
       "    .dataframe tbody tr th:only-of-type {\n",
       "        vertical-align: middle;\n",
       "    }\n",
       "\n",
       "    .dataframe tbody tr th {\n",
       "        vertical-align: top;\n",
       "    }\n",
       "\n",
       "    .dataframe thead th {\n",
       "        text-align: right;\n",
       "    }\n",
       "</style>\n",
       "<table border=\"1\" class=\"dataframe\">\n",
       "  <thead>\n",
       "    <tr style=\"text-align: right;\">\n",
       "      <th></th>\n",
       "      <th>acc_x</th>\n",
       "      <th>acc_y</th>\n",
       "      <th>acc_z</th>\n",
       "      <th>gy_x</th>\n",
       "      <th>gy_y</th>\n",
       "      <th>gy_z</th>\n",
       "    </tr>\n",
       "    <tr>\n",
       "      <th>id</th>\n",
       "      <th></th>\n",
       "      <th></th>\n",
       "      <th></th>\n",
       "      <th></th>\n",
       "      <th></th>\n",
       "      <th></th>\n",
       "    </tr>\n",
       "  </thead>\n",
       "  <tbody>\n",
       "    <tr>\n",
       "      <th>3125</th>\n",
       "      <td>-1.018731</td>\n",
       "      <td>-0.019574</td>\n",
       "      <td>-0.232259</td>\n",
       "      <td>-3.185128</td>\n",
       "      <td>2.731872</td>\n",
       "      <td>-2.000683</td>\n",
       "    </tr>\n",
       "    <tr>\n",
       "      <th>3126</th>\n",
       "      <td>-0.522843</td>\n",
       "      <td>0.612161</td>\n",
       "      <td>-0.071092</td>\n",
       "      <td>-17.741526</td>\n",
       "      <td>6.974772</td>\n",
       "      <td>-3.604579</td>\n",
       "    </tr>\n",
       "    <tr>\n",
       "      <th>3127</th>\n",
       "      <td>0.506947</td>\n",
       "      <td>0.903819</td>\n",
       "      <td>-0.141098</td>\n",
       "      <td>-2.179745</td>\n",
       "      <td>-2.251452</td>\n",
       "      <td>-0.393175</td>\n",
       "    </tr>\n",
       "    <tr>\n",
       "      <th>3128</th>\n",
       "      <td>-0.577603</td>\n",
       "      <td>-0.610557</td>\n",
       "      <td>0.031486</td>\n",
       "      <td>0.808579</td>\n",
       "      <td>-2.984969</td>\n",
       "      <td>-0.024318</td>\n",
       "    </tr>\n",
       "    <tr>\n",
       "      <th>3129</th>\n",
       "      <td>-0.738640</td>\n",
       "      <td>0.182535</td>\n",
       "      <td>0.401302</td>\n",
       "      <td>-1.431538</td>\n",
       "      <td>1.442366</td>\n",
       "      <td>5.745498</td>\n",
       "    </tr>\n",
       "    <tr>\n",
       "      <th>...</th>\n",
       "      <td>...</td>\n",
       "      <td>...</td>\n",
       "      <td>...</td>\n",
       "      <td>...</td>\n",
       "      <td>...</td>\n",
       "      <td>...</td>\n",
       "    </tr>\n",
       "    <tr>\n",
       "      <th>3902</th>\n",
       "      <td>-0.907299</td>\n",
       "      <td>0.488264</td>\n",
       "      <td>-0.238160</td>\n",
       "      <td>5.218293</td>\n",
       "      <td>1.218743</td>\n",
       "      <td>-0.429678</td>\n",
       "    </tr>\n",
       "    <tr>\n",
       "      <th>3903</th>\n",
       "      <td>-0.608731</td>\n",
       "      <td>0.371269</td>\n",
       "      <td>-0.106845</td>\n",
       "      <td>6.350148</td>\n",
       "      <td>3.987078</td>\n",
       "      <td>13.272141</td>\n",
       "    </tr>\n",
       "    <tr>\n",
       "      <th>3904</th>\n",
       "      <td>-0.753193</td>\n",
       "      <td>0.199782</td>\n",
       "      <td>0.311769</td>\n",
       "      <td>-0.761053</td>\n",
       "      <td>-2.325664</td>\n",
       "      <td>1.935083</td>\n",
       "    </tr>\n",
       "    <tr>\n",
       "      <th>3905</th>\n",
       "      <td>0.958903</td>\n",
       "      <td>-0.320975</td>\n",
       "      <td>-0.356234</td>\n",
       "      <td>2.559009</td>\n",
       "      <td>-1.653229</td>\n",
       "      <td>0.932313</td>\n",
       "    </tr>\n",
       "    <tr>\n",
       "      <th>3906</th>\n",
       "      <td>-0.781752</td>\n",
       "      <td>-0.369244</td>\n",
       "      <td>0.141230</td>\n",
       "      <td>-11.480833</td>\n",
       "      <td>-3.664275</td>\n",
       "      <td>-7.197783</td>\n",
       "    </tr>\n",
       "  </tbody>\n",
       "</table>\n",
       "<p>782 rows × 6 columns</p>\n",
       "</div>"
      ],
      "text/plain": [
       "         acc_x     acc_y     acc_z       gy_x      gy_y       gy_z\n",
       "id                                                                \n",
       "3125 -1.018731 -0.019574 -0.232259  -3.185128  2.731872  -2.000683\n",
       "3126 -0.522843  0.612161 -0.071092 -17.741526  6.974772  -3.604579\n",
       "3127  0.506947  0.903819 -0.141098  -2.179745 -2.251452  -0.393175\n",
       "3128 -0.577603 -0.610557  0.031486   0.808579 -2.984969  -0.024318\n",
       "3129 -0.738640  0.182535  0.401302  -1.431538  1.442366   5.745498\n",
       "...        ...       ...       ...        ...       ...        ...\n",
       "3902 -0.907299  0.488264 -0.238160   5.218293  1.218743  -0.429678\n",
       "3903 -0.608731  0.371269 -0.106845   6.350148  3.987078  13.272141\n",
       "3904 -0.753193  0.199782  0.311769  -0.761053 -2.325664   1.935083\n",
       "3905  0.958903 -0.320975 -0.356234   2.559009 -1.653229   0.932313\n",
       "3906 -0.781752 -0.369244  0.141230 -11.480833 -3.664275  -7.197783\n",
       "\n",
       "[782 rows x 6 columns]"
      ]
     },
     "execution_count": 51,
     "metadata": {},
     "output_type": "execute_result"
    }
   ],
   "source": [
    "X_test=test[features].groupby('id').mean()\n",
    "X_test"
   ]
  },
  {
   "cell_type": "code",
   "execution_count": 52,
   "metadata": {
    "scrolled": false
   },
   "outputs": [],
   "source": [
    "def plot_acc_id(df, id_num):\n",
    "    return df.query('id == @id_num')[['time', 'acc_x', 'acc_y', 'acc_z']].plot(x = 'time')\n",
    "\n",
    "def plot_gy_id(df, id_num):\n",
    "    return df.query('id == @id_num')[['time', 'gy_x', 'gy_y', 'gy_z']].plot(x = 'time')"
   ]
  },
  {
   "cell_type": "code",
   "execution_count": 53,
   "metadata": {},
   "outputs": [
    {
     "data": {
      "text/plain": [
       "<AxesSubplot:xlabel='time'>"
      ]
     },
     "execution_count": 53,
     "metadata": {},
     "output_type": "execute_result"
    },
    {
     "data": {
      "image/png": "[encoded data removed]",
      "text/plain": [
       "<Figure size 432x288 with 1 Axes>"
      ]
     },
     "metadata": {
      "needs_background": "light"
     },
     "output_type": "display_data"
    },
    {
     "data": {
      "image/png": "[encoded data removed]",
      "text/plain": [
       "<Figure size 432x288 with 1 Axes>"
      ]
     },
     "metadata": {
      "needs_background": "light"
     },
     "output_type": "display_data"
    }
   ],
   "source": [
    "plot_acc_id(train, 122)\n",
    "plot_gy_id(train,122)"
   ]
  },
  {
   "cell_type": "code",
   "execution_count": 54,
   "metadata": {
    "scrolled": true
   },
   "outputs": [
    {
     "data": {
      "text/html": [
       "<div>\n",
       "<style scoped>\n",
       "    .dataframe tbody tr th:only-of-type {\n",
       "        vertical-align: middle;\n",
       "    }\n",
       "\n",
       "    .dataframe tbody tr th {\n",
       "        vertical-align: top;\n",
       "    }\n",
       "\n",
       "    .dataframe thead th {\n",
       "        text-align: right;\n",
       "    }\n",
       "</style>\n",
       "<table border=\"1\" class=\"dataframe\">\n",
       "  <thead>\n",
       "    <tr style=\"text-align: right;\">\n",
       "      <th></th>\n",
       "      <th>count</th>\n",
       "      <th>mean</th>\n",
       "      <th>std</th>\n",
       "      <th>min</th>\n",
       "      <th>25%</th>\n",
       "      <th>50%</th>\n",
       "      <th>75%</th>\n",
       "      <th>max</th>\n",
       "    </tr>\n",
       "  </thead>\n",
       "  <tbody>\n",
       "    <tr>\n",
       "      <th>acc_x</th>\n",
       "      <td>782.0</td>\n",
       "      <td>-0.450305</td>\n",
       "      <td>0.527296</td>\n",
       "      <td>-1.504693</td>\n",
       "      <td>-0.894179</td>\n",
       "      <td>-0.603330</td>\n",
       "      <td>-0.146107</td>\n",
       "      <td>1.016206</td>\n",
       "    </tr>\n",
       "    <tr>\n",
       "      <th>acc_y</th>\n",
       "      <td>782.0</td>\n",
       "      <td>-0.188638</td>\n",
       "      <td>0.430875</td>\n",
       "      <td>-1.062517</td>\n",
       "      <td>-0.485794</td>\n",
       "      <td>-0.245897</td>\n",
       "      <td>0.056554</td>\n",
       "      <td>1.050350</td>\n",
       "    </tr>\n",
       "    <tr>\n",
       "      <th>acc_z</th>\n",
       "      <td>782.0</td>\n",
       "      <td>0.047377</td>\n",
       "      <td>0.341953</td>\n",
       "      <td>-1.074045</td>\n",
       "      <td>-0.149664</td>\n",
       "      <td>0.030966</td>\n",
       "      <td>0.266612</td>\n",
       "      <td>1.005100</td>\n",
       "    </tr>\n",
       "    <tr>\n",
       "      <th>gy_x</th>\n",
       "      <td>782.0</td>\n",
       "      <td>-1.368040</td>\n",
       "      <td>10.552588</td>\n",
       "      <td>-50.624786</td>\n",
       "      <td>-5.253808</td>\n",
       "      <td>-1.239620</td>\n",
       "      <td>2.466666</td>\n",
       "      <td>115.723820</td>\n",
       "    </tr>\n",
       "    <tr>\n",
       "      <th>gy_y</th>\n",
       "      <td>782.0</td>\n",
       "      <td>-0.886681</td>\n",
       "      <td>7.810353</td>\n",
       "      <td>-54.919691</td>\n",
       "      <td>-3.946176</td>\n",
       "      <td>-0.968877</td>\n",
       "      <td>2.493274</td>\n",
       "      <td>77.761288</td>\n",
       "    </tr>\n",
       "    <tr>\n",
       "      <th>gy_z</th>\n",
       "      <td>782.0</td>\n",
       "      <td>0.524323</td>\n",
       "      <td>6.283368</td>\n",
       "      <td>-40.986026</td>\n",
       "      <td>-2.377328</td>\n",
       "      <td>0.202773</td>\n",
       "      <td>3.071314</td>\n",
       "      <td>37.234866</td>\n",
       "    </tr>\n",
       "  </tbody>\n",
       "</table>\n",
       "</div>"
      ],
      "text/plain": [
       "       count      mean        std        min       25%       50%       75%  \\\n",
       "acc_x  782.0 -0.450305   0.527296  -1.504693 -0.894179 -0.603330 -0.146107   \n",
       "acc_y  782.0 -0.188638   0.430875  -1.062517 -0.485794 -0.245897  0.056554   \n",
       "acc_z  782.0  0.047377   0.341953  -1.074045 -0.149664  0.030966  0.266612   \n",
       "gy_x   782.0 -1.368040  10.552588 -50.624786 -5.253808 -1.239620  2.466666   \n",
       "gy_y   782.0 -0.886681   7.810353 -54.919691 -3.946176 -0.968877  2.493274   \n",
       "gy_z   782.0  0.524323   6.283368 -40.986026 -2.377328  0.202773  3.071314   \n",
       "\n",
       "              max  \n",
       "acc_x    1.016206  \n",
       "acc_y    1.050350  \n",
       "acc_z    1.005100  \n",
       "gy_x   115.723820  \n",
       "gy_y    77.761288  \n",
       "gy_z    37.234866  "
      ]
     },
     "execution_count": 54,
     "metadata": {},
     "output_type": "execute_result"
    }
   ],
   "source": [
    "X_test.describe().transpose()"
   ]
  },
  {
   "cell_type": "code",
   "execution_count": 55,
   "metadata": {},
   "outputs": [
    {
     "name": "stdout",
     "output_type": "stream",
     "text": [
      "Shape of X_train:  (3125, 6)\n",
      "Shape of X_test:  (782, 6)\n",
      "Shape of y_train:  (3125, 1)\n"
     ]
    }
   ],
   "source": [
    "print(\"Shape of X_train: \",X_train.shape)\n",
    "print(\"Shape of X_test: \", X_test.shape)\n",
    "Y_train = train_labels['label'].values.reshape(-1,1)\n",
    "print(\"Shape of y_train: \",Y_train.shape)"
   ]
  },
  {
   "cell_type": "code",
   "execution_count": 115,
   "metadata": {},
   "outputs": [],
   "source": [
    "# Feature Scaling - feature들을 서로 정규화 시켜주는 작업\n",
    "from sklearn.preprocessing import RobustScaler\n",
    "sc = RobustScaler()\n",
    "X_train_scaled = sc.fit_transform(X_train)\n",
    "X_test_scaled = sc.transform(X_test)"
   ]
  },
  {
   "cell_type": "code",
   "execution_count": 116,
   "metadata": {},
   "outputs": [
    {
     "data": {
      "text/plain": [
       "LogisticRegression(C=1, max_iter=1000, solver='liblinear')"
      ]
     },
     "execution_count": 116,
     "metadata": {},
     "output_type": "execute_result"
    }
   ],
   "source": [
    "# Fitting Logistic Regression to the Training set\n",
    "from sklearn.linear_model import LogisticRegression\n",
    "classifier_lr = LogisticRegression(C=1, fit_intercept=True, max_iter=1000, penalty = 'l2', solver='liblinear') #첫번째 LR실행\n",
    "classifier_lr.fit(X_train_scaled, Y_train.ravel()) #학습시킴"
   ]
  },
  {
   "cell_type": "code",
   "execution_count": 117,
   "metadata": {},
   "outputs": [
    {
     "name": "stdout",
     "output_type": "stream",
     "text": [
      "CV:  0.5190392807405587\n",
      "Training set:  0.52256\n"
     ]
    },
    {
     "data": {
      "text/plain": [
       "array([26, 26, 26, 26, 26, 26, 26, 26, 26, 37, 26, 26, 26, 26, 26, 26, 26,\n",
       "       26, 26, 26, 26, 26,  2, 26, 26, 26, 26, 26, 26, 26, 26, 26, 26, 26,\n",
       "       26, 26, 26, 26, 26, 26, 26, 26, 26, 26, 26, 26, 26, 26, 26, 26, 26,\n",
       "       26, 26, 26,  6, 26, 26, 26, 26, 26, 26, 26, 26, 26, 26, 26, 26, 26,\n",
       "       26, 26, 26, 26, 26, 26, 26, 26, 26, 26, 26, 27, 26, 26, 26, 26,  8,\n",
       "       26, 26, 26, 26, 26, 26, 26, 26, 26, 26, 26, 26, 26, 26, 26, 26, 26,\n",
       "       26, 26, 26, 26, 26, 26, 26, 26, 26, 27, 26, 26, 26, 26, 26, 26, 26,\n",
       "       26, 26, 26, 26, 26, 26, 26, 26,  8, 26, 26, 26, 26, 26, 26, 26, 26,\n",
       "       26, 27, 26, 26, 37, 26, 26, 26, 26, 26, 26, 26, 19, 26, 26, 26, 26,\n",
       "       26, 26, 26, 26, 26, 26, 26, 26, 26, 26, 26, 26, 26, 26, 26, 26, 26,\n",
       "       26, 26, 26, 26, 26, 26, 26, 26, 26, 26, 26, 26, 26, 27, 26, 26, 26,\n",
       "       26, 26, 27, 26, 26, 26, 26, 26, 26, 26, 26, 26, 26, 26, 26, 26, 26,\n",
       "       26, 26, 26, 26, 26, 27, 26, 26, 26, 26, 26, 26, 26, 26, 26, 26, 26,\n",
       "       26, 26, 26, 26, 26, 26, 26, 26, 26, 26, 26, 26, 26, 26, 26, 26, 26,\n",
       "       26, 26, 26, 26, 26, 26, 26, 26, 26, 26, 26, 26, 26, 26, 26, 26, 26,\n",
       "       26, 26, 26, 26, 26, 37, 26, 26, 26, 26, 26, 26, 37, 26, 26, 26, 26,\n",
       "       26, 26, 43, 26, 26, 26, 26, 26, 26, 26, 26, 26, 26, 26, 26, 26, 26,\n",
       "       26, 26, 26, 26, 26, 26, 26, 26, 26,  6, 26, 26, 27, 26, 26, 26, 26,\n",
       "       26, 26, 26, 26, 26, 26, 26, 26, 26, 26,  6, 26, 26, 26, 26, 26, 26,\n",
       "       37, 26, 26, 26, 26, 26, 26, 26, 26, 26, 27, 26, 26, 26, 37, 26, 26,\n",
       "       26, 26, 26, 26, 26, 26, 26,  6, 27, 26, 26, 27, 26, 26, 26, 26, 26,\n",
       "       26, 26, 26, 26, 26, 26, 26, 26, 26, 26, 26, 26, 37, 26, 29, 26, 26,\n",
       "       26, 26, 26, 26, 26, 26, 26, 26, 26, 26, 26, 26, 26, 26, 26, 37, 26,\n",
       "       26, 26, 26, 26, 44, 26, 27, 26, 26, 26, 26, 26, 26, 26, 26, 26, 26,\n",
       "       26, 26, 26, 26, 26, 26, 26, 26, 26, 26, 26, 26, 26, 26, 26, 26, 37,\n",
       "       26, 26, 26,  6, 26, 26, 26, 26, 26, 26, 26, 26, 26, 26, 26, 26, 26,\n",
       "       26, 26, 26, 26, 38, 26, 26, 26, 26, 26, 26, 26, 26, 26, 26, 37, 26,\n",
       "       26, 26, 26, 26, 26, 26, 26, 26, 26, 26, 26, 26, 26, 26, 26, 26, 26,\n",
       "       26, 26, 26, 27, 26, 26, 26, 26, 26, 26, 37, 27, 26, 26, 26, 26, 26,\n",
       "       26, 26, 26, 26, 26, 26, 26, 26, 26, 26, 26, 26, 26, 26, 26, 26, 26,\n",
       "       26, 26, 37, 26, 26, 26, 26, 26, 26, 26, 38, 26, 26, 26, 26, 26, 26,\n",
       "       26, 37, 26, 26, 26, 19, 26, 26, 26, 26, 26, 26, 26, 26, 26, 26, 26,\n",
       "       26, 26, 26, 26, 26, 26, 26, 26, 26, 17, 26, 27, 26, 26,  6, 26, 26,\n",
       "       26, 26, 26, 26,  8, 26, 26, 26, 26, 26, 26, 26, 26, 26, 26, 26, 26,\n",
       "       26, 26, 26, 26, 26, 26, 26, 26, 26,  7, 26, 44, 26, 26, 26, 26,  6,\n",
       "       26, 26, 26, 26, 26, 26, 26, 26, 26, 26, 26, 26, 26, 37, 26, 26, 26,\n",
       "       26, 26, 26, 26, 26, 26, 26, 26, 54, 26, 26, 26, 27, 26, 26, 26, 26,\n",
       "       26, 26, 26, 26, 26, 26, 26, 26, 26, 26, 26, 26, 26, 26, 26, 26, 26,\n",
       "       26, 26, 26, 26, 26, 26, 27, 26, 26, 26, 26, 18, 26, 26, 26, 26, 26,\n",
       "       26, 26, 26, 26, 26, 26, 26, 26, 26, 26, 26, 27, 26, 26, 26, 26, 26,\n",
       "       26, 26, 26, 26, 26, 26, 26, 26, 26, 26, 26, 26, 26, 26, 26, 26, 26,\n",
       "       26, 26, 26, 26, 26, 26, 26, 37, 26, 26, 26, 26, 26, 26, 26, 26, 26,\n",
       "       26, 26, 26, 26, 26, 38, 26, 26, 26, 26, 26, 26, 26, 26, 26, 26, 26,\n",
       "       18, 26, 26, 26, 26, 26, 26, 26, 26, 26, 26, 26, 26, 26, 26, 26, 37,\n",
       "       26, 26, 26, 27, 26, 56, 26, 26, 26, 26, 37, 26, 26, 26, 26, 26, 26,\n",
       "       26, 26, 26, 26, 26, 26, 26, 26, 26, 26, 26, 37, 26, 26, 26, 37, 26],\n",
       "      dtype=int64)"
      ]
     },
     "execution_count": 117,
     "metadata": {},
     "output_type": "execute_result"
    }
   ],
   "source": [
    "cv_lr = cross_val_score(estimator = classifier_lr, X = X_train_scaled, y = Y_train.ravel(), cv = 10) #선형회귀로 10겹 교차검증\n",
    "print(\"CV: \", cv_lr.mean())\n",
    "\n",
    "Y_pred_lr_train = classifier_lr.predict(X_train_scaled) #x_train_scaled 를 활용하여 y값을 예측가게 함\n",
    "accuracy_lr_train = accuracy_score(Y_train, Y_pred_lr_train) #train(원래)값과 예측 값의 정확도\n",
    "print(\"Training set: \", accuracy_lr_train)\n",
    "\n",
    "Y_pred_lr_test = classifier_lr.predict(X_test_scaled)\n",
    "Y_pred_lr_test"
   ]
  },
  {
   "cell_type": "code",
   "execution_count": 118,
   "metadata": {},
   "outputs": [
    {
     "data": {
      "text/plain": [
       "KNeighborsClassifier(leaf_size=1, n_neighbors=32, weights='distance')"
      ]
     },
     "execution_count": 118,
     "metadata": {},
     "output_type": "execute_result"
    }
   ],
   "source": [
    "from sklearn.neighbors import KNeighborsClassifier\n",
    "classifier_knn = KNeighborsClassifier(leaf_size = 1, metric = 'minkowski', n_neighbors = 32, weights = 'distance') #가까울수록 큰 가중치, 32인접샘플수\n",
    "classifier_knn.fit(X_train_scaled, Y_train.ravel())"
   ]
  },
  {
   "cell_type": "code",
   "execution_count": 119,
   "metadata": {},
   "outputs": [
    {
     "name": "stdout",
     "output_type": "stream",
     "text": [
      "CV:  0.5820758581141969\n",
      "Training set:  1.0\n"
     ]
    },
    {
     "data": {
      "text/plain": [
       "array([[0.        , 0.        , 0.        , ..., 0.02538873, 0.        ,\n",
       "        0.        ],\n",
       "       [0.        , 0.        , 0.        , ..., 0.        , 0.        ,\n",
       "        0.        ],\n",
       "       [0.02478644, 0.05928301, 0.        , ..., 0.        , 0.05751842,\n",
       "        0.        ],\n",
       "       ...,\n",
       "       [0.        , 0.        , 0.        , ..., 0.        , 0.        ,\n",
       "        0.05975024],\n",
       "       [0.        , 0.        , 0.        , ..., 0.        , 0.        ,\n",
       "        0.        ],\n",
       "       [0.        , 0.        , 0.        , ..., 0.02949119, 0.        ,\n",
       "        0.        ]])"
      ]
     },
     "execution_count": 119,
     "metadata": {},
     "output_type": "execute_result"
    }
   ],
   "source": [
    "cv_knn = cross_val_score(estimator = classifier_knn, X = X_train_scaled, y= Y_train.ravel(), cv = 10)\n",
    "print(\"CV: \", cv_knn.mean())\n",
    "\n",
    "Y_pred_knn_train = classifier_knn.predict(X_train_scaled)\n",
    "accuracy_knn_train = accuracy_score(Y_train, Y_pred_knn_train)\n",
    "print(\"Training set: \", accuracy_knn_train)\n",
    "\n",
    "y_pred_knn_test = classifier_knn.predict_proba(X_test_scaled)\n",
    "y_pred_knn_test\n",
    "#print(y_pred_knn_test.shape)"
   ]
  },
  {
   "cell_type": "code",
   "execution_count": 120,
   "metadata": {},
   "outputs": [
    {
     "data": {
      "text/plain": [
       "SVC(kernel='linear', probability=True)"
      ]
     },
     "execution_count": 120,
     "metadata": {},
     "output_type": "execute_result"
    }
   ],
   "source": [
    "#Support Vector Machine (SVM - Linear) \n",
    "# Fitting classifier to the Training set\n",
    "from sklearn.svm import SVC\n",
    "classifier_svm_linear = SVC(kernel = 'linear' ,probability=True) #선을 그어주는것\n",
    "classifier_svm_linear.fit(X_train_scaled, Y_train.ravel())\n"
   ]
  },
  {
   "cell_type": "code",
   "execution_count": 121,
   "metadata": {},
   "outputs": [
    {
     "name": "stdout",
     "output_type": "stream",
     "text": [
      "CV:  0.5699199229950029\n",
      "Training set:  0.58208\n"
     ]
    },
    {
     "data": {
      "text/plain": [
       "array([[0.00397345, 0.00090547, 0.00100521, ..., 0.03663492, 0.00066375,\n",
       "        0.01157198],\n",
       "       [0.00151968, 0.0013793 , 0.00039178, ..., 0.0010773 , 0.00093396,\n",
       "        0.00465662],\n",
       "       [0.00656009, 0.04002045, 0.00162663, ..., 0.00118545, 0.05061689,\n",
       "        0.00396746],\n",
       "       ...,\n",
       "       [0.0031133 , 0.00047441, 0.00180653, ..., 0.00108403, 0.00043755,\n",
       "        0.02328027],\n",
       "       [0.00522892, 0.01744276, 0.00149234, ..., 0.00106215, 0.03117913,\n",
       "        0.00258479],\n",
       "       [0.00159476, 0.000623  , 0.00390846, ..., 0.00586231, 0.00046111,\n",
       "        0.00844679]])"
      ]
     },
     "execution_count": 121,
     "metadata": {},
     "output_type": "execute_result"
    }
   ],
   "source": [
    "cv_svm_linear = cross_val_score(estimator = classifier_svm_linear, X = X_train_scaled, y = Y_train.ravel(), cv = 10)\n",
    "print(\"CV: \", cv_svm_linear.mean())\n",
    "\n",
    "Y_pred_svm_linear_train = classifier_svm_linear.predict(X_train_scaled)\n",
    "accuracy_svm_linear_train = accuracy_score(Y_train, Y_pred_svm_linear_train)\n",
    "print(\"Training set: \", accuracy_svm_linear_train)\n",
    "\n",
    "Y_pred_svm_linear_test = classifier_svm_linear.predict_proba(X_test_scaled)\n",
    "Y_pred_svm_linear_test"
   ]
  },
  {
   "cell_type": "code",
   "execution_count": 124,
   "metadata": {},
   "outputs": [
    {
     "data": {
      "text/plain": [
       "SVC(C=10, probability=True)"
      ]
     },
     "execution_count": 124,
     "metadata": {},
     "output_type": "execute_result"
    }
   ],
   "source": [
    "from sklearn.svm import SVC\n",
    "classifier_svm_kernel = SVC(kernel = 'rbf', C = 10, tol = 0.001, gamma = 'scale',probability=True) #비선형으로 나눔\n",
    "#C를 작게 하면 훈련 데이터의 분류를 부정확하게 하는 대신 (= decision boundary를 곧게 그리는 대신) Margin을 크게 합니다. \n",
    "#C를 크게 하면 Margin을 작게 하는 대신 훈련 데이터의 분류를 정확하게 (= decision boundray를 굴곡있게) 합니다.\n",
    "classifier_svm_kernel.fit(X_train_scaled, Y_train.ravel())"
   ]
  },
  {
   "cell_type": "code",
   "execution_count": 126,
   "metadata": {},
   "outputs": [
    {
     "name": "stdout",
     "output_type": "stream",
     "text": [
      "CV:  0.6041594986483165\n",
      "Training set:  0.6896\n"
     ]
    }
   ],
   "source": [
    "# Predicting Cross Validation Score\n",
    "cv_svm_kernel = cross_val_score(estimator = classifier_svm_kernel, X = X_train_scaled, y = Y_train.ravel(), cv = 10)\n",
    "print(\"CV: \", cv_svm_kernel.mean())\n",
    "\n",
    "Y_pred_svm_kernel_train = classifier_svm_kernel.predict(X_train_scaled)\n",
    "accuracy_svm_kernel_train = accuracy_score(Y_train, Y_pred_svm_kernel_train)\n",
    "print(\"Training set: \", accuracy_svm_kernel_train)\n",
    "\n",
    "Y_pred_svm_kernel_test = classifier_svm_kernel.predict_proba(X_test_scaled)\n",
    "Y_pred_svm_kernel_test\n",
    "submission.iloc[:,1:]=Y_pred_svm_kernel_test\n",
    "submission.to_csv('baseline_rf.csv', index=False)"
   ]
  },
  {
   "cell_type": "code",
   "execution_count": 127,
   "metadata": {},
   "outputs": [
    {
     "data": {
      "text/plain": [
       "GaussianNB()"
      ]
     },
     "execution_count": 127,
     "metadata": {},
     "output_type": "execute_result"
    }
   ],
   "source": [
    "#Naive Bayes  베이즈 정리에 기반한 통계적 분류 기법\n",
    "# Fitting classifier to the Training set\n",
    "from sklearn.naive_bayes import GaussianNB\n",
    "classifier_nb = GaussianNB()\n",
    "classifier_nb.fit(X_train_scaled, Y_train.ravel())"
   ]
  },
  {
   "cell_type": "code",
   "execution_count": 129,
   "metadata": {},
   "outputs": [
    {
     "name": "stdout",
     "output_type": "stream",
     "text": [
      "CV:  0.551661956254608\n",
      "Training set:  0.57952\n"
     ]
    },
    {
     "data": {
      "text/plain": [
       "array([[4.45493054e-05, 9.87430596e-17, 1.99353093e-12, ...,\n",
       "        3.06809245e-02, 1.69432084e-18, 7.78078661e-04],\n",
       "       [6.81862448e-05, 4.85550656e-16, 2.72350641e-23, ...,\n",
       "        4.02818711e-83, 8.74354159e-10, 1.62079447e-05],\n",
       "       [2.94691658e-03, 3.18793745e-01, 7.21585594e-19, ...,\n",
       "        0.00000000e+00, 2.15093473e-02, 7.17662478e-04],\n",
       "       ...,\n",
       "       [2.30691806e-03, 2.21644930e-09, 2.12752430e-05, ...,\n",
       "        5.48933483e-25, 1.55756972e-12, 2.36005330e-01],\n",
       "       [7.49311406e-05, 8.63455809e-04, 2.22278578e-17, ...,\n",
       "        0.00000000e+00, 3.14194196e-04, 1.47660546e-06],\n",
       "       [5.41478514e-05, 4.10876915e-14, 8.94836808e-08, ...,\n",
       "        2.60481599e-20, 8.91898131e-13, 2.11506391e-05]])"
      ]
     },
     "execution_count": 129,
     "metadata": {},
     "output_type": "execute_result"
    }
   ],
   "source": [
    "# Predicting Cross Validation Score\n",
    "cv_nb = cross_val_score(estimator = classifier_nb, X = X_train_scaled, y = Y_train.ravel(), cv = 10)\n",
    "print(\"CV: \", cv_nb.mean())\n",
    "\n",
    "Y_pred_nb_train = classifier_nb.predict(X_train_scaled)\n",
    "accuracy_nb_train = accuracy_score(Y_train, Y_pred_nb_train)\n",
    "print(\"Training set: \", accuracy_nb_train)\n",
    "\n",
    "Y_pred_nb_test = classifier_nb.predict_proba(X_test_scaled)\n",
    "Y_pred_nb_test"
   ]
  },
  {
   "cell_type": "code",
   "execution_count": 113,
   "metadata": {},
   "outputs": [
    {
     "data": {
      "text/plain": [
       "DecisionTreeClassifier(max_features=6, max_leaf_nodes=400, random_state=33)"
      ]
     },
     "execution_count": 113,
     "metadata": {},
     "output_type": "execute_result"
    }
   ],
   "source": [
    "from sklearn.tree import DecisionTreeClassifier\n",
    "classifier_dt = DecisionTreeClassifier(criterion = 'gini', max_features=6, max_leaf_nodes=400, random_state = 33) #지니계수 , 엔트로피계수\n",
    "classifier_dt.fit(X_train_scaled, Y_train.ravel())"
   ]
  },
  {
   "cell_type": "code",
   "execution_count": 114,
   "metadata": {},
   "outputs": [
    {
     "name": "stdout",
     "output_type": "stream",
     "text": [
      "CV:  0.4867238060129434\n",
      "Training set:  0.76224\n"
     ]
    },
    {
     "data": {
      "text/plain": [
       "array([[0.        , 0.        , 0.        , ..., 0.        , 0.        ,\n",
       "        0.        ],\n",
       "       [0.00251889, 0.        , 0.00755668, ..., 0.        , 0.        ,\n",
       "        0.        ],\n",
       "       [0.        , 0.        , 0.        , ..., 0.        , 0.        ,\n",
       "        0.        ],\n",
       "       ...,\n",
       "       [0.        , 0.        , 0.        , ..., 0.        , 0.        ,\n",
       "        0.        ],\n",
       "       [0.        , 0.        , 0.        , ..., 0.        , 0.        ,\n",
       "        0.        ],\n",
       "       [0.00251889, 0.        , 0.00755668, ..., 0.        , 0.        ,\n",
       "        0.        ]])"
      ]
     },
     "execution_count": 114,
     "metadata": {},
     "output_type": "execute_result"
    }
   ],
   "source": [
    "cv_dt = cross_val_score(estimator = classifier_dt, X = X_train_scaled, y = Y_train.ravel(), cv = 10)\n",
    "print(\"CV: \", cv_dt.mean())\n",
    "\n",
    "Y_pred_dt_train = classifier_dt.predict(X_train_scaled)\n",
    "accuracy_dt_train = accuracy_score(Y_train, Y_pred_dt_train)\n",
    "print(\"Training set: \", accuracy_dt_train)\n",
    "\n",
    "Y_pred_dt_test = classifier_dt.predict_proba(X_test_scaled)\n",
    "Y_pred_dt_test "
   ]
  },
  {
   "cell_type": "code",
   "execution_count": 72,
   "metadata": {},
   "outputs": [],
   "source": [
    "models = [('Logistic Regression',  accuracy_lr_train,  cv_lr.mean()),\n",
    "          ('K-Nearest Neighbors (KNN)', accuracy_knn_train,  cv_knn.mean()),\n",
    "          ('SVM (Linear)',  accuracy_svm_linear_train,  cv_svm_linear.mean()),\n",
    "          ('SVM (Kernel)', accuracy_svm_kernel_train,cv_svm_kernel.mean()),\n",
    "          ('Naive Bayes',  accuracy_nb_train,  cv_nb.mean()),\n",
    "          ('Decision Tree Classification',  accuracy_dt_train,  cv_dt.mean()),\n",
    "          #('Random Forest Tree Classification',  accuracy_rf_train,  cv_rf.mean())\n",
    "         ]"
   ]
  },
  {
   "cell_type": "code",
   "execution_count": 73,
   "metadata": {},
   "outputs": [
    {
     "data": {
      "text/html": [
       "<div>\n",
       "<style scoped>\n",
       "    .dataframe tbody tr th:only-of-type {\n",
       "        vertical-align: middle;\n",
       "    }\n",
       "\n",
       "    .dataframe tbody tr th {\n",
       "        vertical-align: top;\n",
       "    }\n",
       "\n",
       "    .dataframe thead th {\n",
       "        text-align: right;\n",
       "    }\n",
       "</style>\n",
       "<table border=\"1\" class=\"dataframe\">\n",
       "  <thead>\n",
       "    <tr style=\"text-align: right;\">\n",
       "      <th></th>\n",
       "      <th>Model</th>\n",
       "      <th>Accuracy(training)</th>\n",
       "      <th>Cross-Validation</th>\n",
       "    </tr>\n",
       "  </thead>\n",
       "  <tbody>\n",
       "    <tr>\n",
       "      <th>0</th>\n",
       "      <td>Logistic Regression</td>\n",
       "      <td>0.52416</td>\n",
       "      <td>0.519680</td>\n",
       "    </tr>\n",
       "    <tr>\n",
       "      <th>1</th>\n",
       "      <td>K-Nearest Neighbors (KNN)</td>\n",
       "      <td>1.00000</td>\n",
       "      <td>0.587520</td>\n",
       "    </tr>\n",
       "    <tr>\n",
       "      <th>2</th>\n",
       "      <td>SVM (Linear)</td>\n",
       "      <td>0.58016</td>\n",
       "      <td>0.567361</td>\n",
       "    </tr>\n",
       "    <tr>\n",
       "      <th>3</th>\n",
       "      <td>SVM (Kernel)</td>\n",
       "      <td>0.70528</td>\n",
       "      <td>0.603206</td>\n",
       "    </tr>\n",
       "    <tr>\n",
       "      <th>4</th>\n",
       "      <td>Naive Bayes</td>\n",
       "      <td>0.57952</td>\n",
       "      <td>0.551662</td>\n",
       "    </tr>\n",
       "    <tr>\n",
       "      <th>5</th>\n",
       "      <td>Decision Tree Classification</td>\n",
       "      <td>0.79168</td>\n",
       "      <td>0.520652</td>\n",
       "    </tr>\n",
       "  </tbody>\n",
       "</table>\n",
       "</div>"
      ],
      "text/plain": [
       "                          Model  Accuracy(training)  Cross-Validation\n",
       "0           Logistic Regression             0.52416          0.519680\n",
       "1     K-Nearest Neighbors (KNN)             1.00000          0.587520\n",
       "2                  SVM (Linear)             0.58016          0.567361\n",
       "3                  SVM (Kernel)             0.70528          0.603206\n",
       "4                   Naive Bayes             0.57952          0.551662\n",
       "5  Decision Tree Classification             0.79168          0.520652"
      ]
     },
     "execution_count": 73,
     "metadata": {},
     "output_type": "execute_result"
    }
   ],
   "source": [
    "predict = pd.DataFrame(data = models, columns=['Model',  'Accuracy(training)',\n",
    "                                               'Cross-Validation'])\n",
    "predict\n"
   ]
  },
  {
   "cell_type": "code",
   "execution_count": 27,
   "metadata": {},
   "outputs": [],
   "source": [
    "# machine learning\n",
    "from sklearn.linear_model import LogisticRegression\n",
    "from sklearn.svm import SVC, LinearSVC\n",
    "from sklearn.ensemble import RandomForestClassifier\n",
    "from sklearn.neighbors import KNeighborsClassifier\n",
    "from sklearn.naive_bayes import GaussianNB\n",
    "from sklearn.linear_model import Perceptron\n",
    "from sklearn.linear_model import SGDClassifier\n",
    "from sklearn.tree import DecisionTreeClassifier"
   ]
  },
  {
   "cell_type": "code",
   "execution_count": 74,
   "metadata": {
    "scrolled": true
   },
   "outputs": [
    {
     "data": {
      "text/plain": [
       "((3125, 6), (3125,), (782, 6))"
      ]
     },
     "execution_count": 74,
     "metadata": {},
     "output_type": "execute_result"
    }
   ],
   "source": [
    "train_labels_merge=pd.merge(train,train_labels,on=\"id\")\n",
    "features = ['id', 'acc_x', 'acc_y', 'acc_z', 'gy_x', 'gy_y', 'gy_z']\n",
    "X_train = train[features].groupby('id').mean()\n",
    "Y_train = train_labels['label']\n",
    "X_test = test[features].groupby('id').mean()\n",
    "X_train.shape,Y_train.shape, X_test.shape"
   ]
  },
  {
   "cell_type": "code",
   "execution_count": 75,
   "metadata": {},
   "outputs": [],
   "source": [
    "model = RandomForestClassifier(n_jobs=-1, random_state=0, min_samples_leaf=30)"
   ]
  },
  {
   "cell_type": "code",
   "execution_count": 76,
   "metadata": {},
   "outputs": [
    {
     "data": {
      "text/plain": [
       "RandomForestClassifier(min_samples_leaf=30, n_jobs=-1, random_state=0)"
      ]
     },
     "execution_count": 76,
     "metadata": {},
     "output_type": "execute_result"
    }
   ],
   "source": [
    "model.fit(X_train, Y_train)"
   ]
  },
  {
   "cell_type": "code",
   "execution_count": 77,
   "metadata": {},
   "outputs": [
    {
     "data": {
      "text/plain": [
       "array([[0.00325281, 0.00020833, 0.00011905, ..., 0.03735216, 0.        ,\n",
       "        0.02883991],\n",
       "       [0.0045866 , 0.0012181 , 0.0036852 , ..., 0.00499022, 0.00077059,\n",
       "        0.00434322],\n",
       "       [0.00558127, 0.06128787, 0.00387055, ..., 0.        , 0.05451969,\n",
       "        0.00347983],\n",
       "       ...,\n",
       "       [0.00154403, 0.00018519, 0.00769902, ..., 0.00088035, 0.00018519,\n",
       "        0.04462214],\n",
       "       [0.00216841, 0.00393621, 0.00098039, ..., 0.00025974, 0.00516733,\n",
       "        0.00256929],\n",
       "       [0.00096171, 0.00012987, 0.0066162 , ..., 0.00303842, 0.00143598,\n",
       "        0.00716553]])"
      ]
     },
     "execution_count": 77,
     "metadata": {},
     "output_type": "execute_result"
    }
   ],
   "source": [
    "y_pred = model.predict_proba(X_test)\n",
    "y_pred"
   ]
  },
  {
   "cell_type": "code",
   "execution_count": 78,
   "metadata": {},
   "outputs": [
    {
     "data": {
      "text/html": [
       "<div>\n",
       "<style scoped>\n",
       "    .dataframe tbody tr th:only-of-type {\n",
       "        vertical-align: middle;\n",
       "    }\n",
       "\n",
       "    .dataframe tbody tr th {\n",
       "        vertical-align: top;\n",
       "    }\n",
       "\n",
       "    .dataframe thead th {\n",
       "        text-align: right;\n",
       "    }\n",
       "</style>\n",
       "<table border=\"1\" class=\"dataframe\">\n",
       "  <thead>\n",
       "    <tr style=\"text-align: right;\">\n",
       "      <th></th>\n",
       "      <th>id</th>\n",
       "      <th>0</th>\n",
       "      <th>1</th>\n",
       "      <th>2</th>\n",
       "      <th>3</th>\n",
       "      <th>4</th>\n",
       "      <th>5</th>\n",
       "      <th>6</th>\n",
       "      <th>7</th>\n",
       "      <th>8</th>\n",
       "      <th>...</th>\n",
       "      <th>51</th>\n",
       "      <th>52</th>\n",
       "      <th>53</th>\n",
       "      <th>54</th>\n",
       "      <th>55</th>\n",
       "      <th>56</th>\n",
       "      <th>57</th>\n",
       "      <th>58</th>\n",
       "      <th>59</th>\n",
       "      <th>60</th>\n",
       "    </tr>\n",
       "  </thead>\n",
       "  <tbody>\n",
       "    <tr>\n",
       "      <th>0</th>\n",
       "      <td>3125</td>\n",
       "      <td>0.003253</td>\n",
       "      <td>0.000208</td>\n",
       "      <td>0.000119</td>\n",
       "      <td>0.001823</td>\n",
       "      <td>0.058705</td>\n",
       "      <td>0.000000</td>\n",
       "      <td>0.001871</td>\n",
       "      <td>0.000524</td>\n",
       "      <td>0.002727</td>\n",
       "      <td>...</td>\n",
       "      <td>0.038297</td>\n",
       "      <td>0.028501</td>\n",
       "      <td>0.005713</td>\n",
       "      <td>0.001231</td>\n",
       "      <td>0.000345</td>\n",
       "      <td>0.000866</td>\n",
       "      <td>0.006993</td>\n",
       "      <td>0.037352</td>\n",
       "      <td>0.000000</td>\n",
       "      <td>0.028840</td>\n",
       "    </tr>\n",
       "    <tr>\n",
       "      <th>1</th>\n",
       "      <td>3126</td>\n",
       "      <td>0.004587</td>\n",
       "      <td>0.001218</td>\n",
       "      <td>0.003685</td>\n",
       "      <td>0.006163</td>\n",
       "      <td>0.008220</td>\n",
       "      <td>0.007083</td>\n",
       "      <td>0.000000</td>\n",
       "      <td>0.001731</td>\n",
       "      <td>0.003273</td>\n",
       "      <td>...</td>\n",
       "      <td>0.006310</td>\n",
       "      <td>0.000000</td>\n",
       "      <td>0.000769</td>\n",
       "      <td>0.000417</td>\n",
       "      <td>0.005680</td>\n",
       "      <td>0.003558</td>\n",
       "      <td>0.008216</td>\n",
       "      <td>0.004990</td>\n",
       "      <td>0.000771</td>\n",
       "      <td>0.004343</td>\n",
       "    </tr>\n",
       "    <tr>\n",
       "      <th>2</th>\n",
       "      <td>3127</td>\n",
       "      <td>0.005581</td>\n",
       "      <td>0.061288</td>\n",
       "      <td>0.003871</td>\n",
       "      <td>0.009347</td>\n",
       "      <td>0.000000</td>\n",
       "      <td>0.009914</td>\n",
       "      <td>0.013605</td>\n",
       "      <td>0.026021</td>\n",
       "      <td>0.126249</td>\n",
       "      <td>...</td>\n",
       "      <td>0.000345</td>\n",
       "      <td>0.000000</td>\n",
       "      <td>0.000000</td>\n",
       "      <td>0.040577</td>\n",
       "      <td>0.010545</td>\n",
       "      <td>0.079453</td>\n",
       "      <td>0.000247</td>\n",
       "      <td>0.000000</td>\n",
       "      <td>0.054520</td>\n",
       "      <td>0.003480</td>\n",
       "    </tr>\n",
       "    <tr>\n",
       "      <th>3</th>\n",
       "      <td>3128</td>\n",
       "      <td>0.000442</td>\n",
       "      <td>0.000510</td>\n",
       "      <td>0.021109</td>\n",
       "      <td>0.002770</td>\n",
       "      <td>0.006732</td>\n",
       "      <td>0.001203</td>\n",
       "      <td>0.000556</td>\n",
       "      <td>0.004880</td>\n",
       "      <td>0.032505</td>\n",
       "      <td>...</td>\n",
       "      <td>0.003432</td>\n",
       "      <td>0.000873</td>\n",
       "      <td>0.001512</td>\n",
       "      <td>0.001761</td>\n",
       "      <td>0.008811</td>\n",
       "      <td>0.000000</td>\n",
       "      <td>0.003039</td>\n",
       "      <td>0.000794</td>\n",
       "      <td>0.000185</td>\n",
       "      <td>0.037945</td>\n",
       "    </tr>\n",
       "    <tr>\n",
       "      <th>4</th>\n",
       "      <td>3129</td>\n",
       "      <td>0.000585</td>\n",
       "      <td>0.000480</td>\n",
       "      <td>0.005640</td>\n",
       "      <td>0.009750</td>\n",
       "      <td>0.000809</td>\n",
       "      <td>0.005883</td>\n",
       "      <td>0.000000</td>\n",
       "      <td>0.000863</td>\n",
       "      <td>0.012134</td>\n",
       "      <td>...</td>\n",
       "      <td>0.001302</td>\n",
       "      <td>0.000000</td>\n",
       "      <td>0.008923</td>\n",
       "      <td>0.000000</td>\n",
       "      <td>0.008246</td>\n",
       "      <td>0.002920</td>\n",
       "      <td>0.007358</td>\n",
       "      <td>0.000000</td>\n",
       "      <td>0.000635</td>\n",
       "      <td>0.006953</td>\n",
       "    </tr>\n",
       "    <tr>\n",
       "      <th>...</th>\n",
       "      <td>...</td>\n",
       "      <td>...</td>\n",
       "      <td>...</td>\n",
       "      <td>...</td>\n",
       "      <td>...</td>\n",
       "      <td>...</td>\n",
       "      <td>...</td>\n",
       "      <td>...</td>\n",
       "      <td>...</td>\n",
       "      <td>...</td>\n",
       "      <td>...</td>\n",
       "      <td>...</td>\n",
       "      <td>...</td>\n",
       "      <td>...</td>\n",
       "      <td>...</td>\n",
       "      <td>...</td>\n",
       "      <td>...</td>\n",
       "      <td>...</td>\n",
       "      <td>...</td>\n",
       "      <td>...</td>\n",
       "      <td>...</td>\n",
       "    </tr>\n",
       "    <tr>\n",
       "      <th>777</th>\n",
       "      <td>3902</td>\n",
       "      <td>0.008883</td>\n",
       "      <td>0.000000</td>\n",
       "      <td>0.000282</td>\n",
       "      <td>0.003185</td>\n",
       "      <td>0.015084</td>\n",
       "      <td>0.007168</td>\n",
       "      <td>0.000250</td>\n",
       "      <td>0.017452</td>\n",
       "      <td>0.008353</td>\n",
       "      <td>...</td>\n",
       "      <td>0.012612</td>\n",
       "      <td>0.004115</td>\n",
       "      <td>0.003101</td>\n",
       "      <td>0.002190</td>\n",
       "      <td>0.000916</td>\n",
       "      <td>0.005706</td>\n",
       "      <td>0.001994</td>\n",
       "      <td>0.001463</td>\n",
       "      <td>0.000000</td>\n",
       "      <td>0.013133</td>\n",
       "    </tr>\n",
       "    <tr>\n",
       "      <th>778</th>\n",
       "      <td>3903</td>\n",
       "      <td>0.003012</td>\n",
       "      <td>0.000000</td>\n",
       "      <td>0.000000</td>\n",
       "      <td>0.003039</td>\n",
       "      <td>0.002615</td>\n",
       "      <td>0.014184</td>\n",
       "      <td>0.000000</td>\n",
       "      <td>0.001519</td>\n",
       "      <td>0.000498</td>\n",
       "      <td>...</td>\n",
       "      <td>0.002271</td>\n",
       "      <td>0.000000</td>\n",
       "      <td>0.003681</td>\n",
       "      <td>0.000000</td>\n",
       "      <td>0.002888</td>\n",
       "      <td>0.005113</td>\n",
       "      <td>0.002463</td>\n",
       "      <td>0.000000</td>\n",
       "      <td>0.000000</td>\n",
       "      <td>0.001314</td>\n",
       "    </tr>\n",
       "    <tr>\n",
       "      <th>779</th>\n",
       "      <td>3904</td>\n",
       "      <td>0.001544</td>\n",
       "      <td>0.000185</td>\n",
       "      <td>0.007699</td>\n",
       "      <td>0.007789</td>\n",
       "      <td>0.007439</td>\n",
       "      <td>0.004148</td>\n",
       "      <td>0.001208</td>\n",
       "      <td>0.002626</td>\n",
       "      <td>0.053422</td>\n",
       "      <td>...</td>\n",
       "      <td>0.011121</td>\n",
       "      <td>0.003436</td>\n",
       "      <td>0.013468</td>\n",
       "      <td>0.000000</td>\n",
       "      <td>0.010312</td>\n",
       "      <td>0.000000</td>\n",
       "      <td>0.002380</td>\n",
       "      <td>0.000880</td>\n",
       "      <td>0.000185</td>\n",
       "      <td>0.044622</td>\n",
       "    </tr>\n",
       "    <tr>\n",
       "      <th>780</th>\n",
       "      <td>3905</td>\n",
       "      <td>0.002168</td>\n",
       "      <td>0.003936</td>\n",
       "      <td>0.000980</td>\n",
       "      <td>0.001488</td>\n",
       "      <td>0.001055</td>\n",
       "      <td>0.002019</td>\n",
       "      <td>0.186496</td>\n",
       "      <td>0.008587</td>\n",
       "      <td>0.018582</td>\n",
       "      <td>...</td>\n",
       "      <td>0.001109</td>\n",
       "      <td>0.000473</td>\n",
       "      <td>0.001259</td>\n",
       "      <td>0.011485</td>\n",
       "      <td>0.006216</td>\n",
       "      <td>0.014987</td>\n",
       "      <td>0.000377</td>\n",
       "      <td>0.000260</td>\n",
       "      <td>0.005167</td>\n",
       "      <td>0.002569</td>\n",
       "    </tr>\n",
       "    <tr>\n",
       "      <th>781</th>\n",
       "      <td>3906</td>\n",
       "      <td>0.000962</td>\n",
       "      <td>0.000130</td>\n",
       "      <td>0.006616</td>\n",
       "      <td>0.006475</td>\n",
       "      <td>0.012552</td>\n",
       "      <td>0.004687</td>\n",
       "      <td>0.000800</td>\n",
       "      <td>0.000244</td>\n",
       "      <td>0.001867</td>\n",
       "      <td>...</td>\n",
       "      <td>0.000749</td>\n",
       "      <td>0.000000</td>\n",
       "      <td>0.001748</td>\n",
       "      <td>0.000217</td>\n",
       "      <td>0.007632</td>\n",
       "      <td>0.000807</td>\n",
       "      <td>0.014632</td>\n",
       "      <td>0.003038</td>\n",
       "      <td>0.001436</td>\n",
       "      <td>0.007166</td>\n",
       "    </tr>\n",
       "  </tbody>\n",
       "</table>\n",
       "<p>782 rows × 62 columns</p>\n",
       "</div>"
      ],
      "text/plain": [
       "       id         0         1         2         3         4         5  \\\n",
       "0    3125  0.003253  0.000208  0.000119  0.001823  0.058705  0.000000   \n",
       "1    3126  0.004587  0.001218  0.003685  0.006163  0.008220  0.007083   \n",
       "2    3127  0.005581  0.061288  0.003871  0.009347  0.000000  0.009914   \n",
       "3    3128  0.000442  0.000510  0.021109  0.002770  0.006732  0.001203   \n",
       "4    3129  0.000585  0.000480  0.005640  0.009750  0.000809  0.005883   \n",
       "..    ...       ...       ...       ...       ...       ...       ...   \n",
       "777  3902  0.008883  0.000000  0.000282  0.003185  0.015084  0.007168   \n",
       "778  3903  0.003012  0.000000  0.000000  0.003039  0.002615  0.014184   \n",
       "779  3904  0.001544  0.000185  0.007699  0.007789  0.007439  0.004148   \n",
       "780  3905  0.002168  0.003936  0.000980  0.001488  0.001055  0.002019   \n",
       "781  3906  0.000962  0.000130  0.006616  0.006475  0.012552  0.004687   \n",
       "\n",
       "            6         7         8  ...        51        52        53  \\\n",
       "0    0.001871  0.000524  0.002727  ...  0.038297  0.028501  0.005713   \n",
       "1    0.000000  0.001731  0.003273  ...  0.006310  0.000000  0.000769   \n",
       "2    0.013605  0.026021  0.126249  ...  0.000345  0.000000  0.000000   \n",
       "3    0.000556  0.004880  0.032505  ...  0.003432  0.000873  0.001512   \n",
       "4    0.000000  0.000863  0.012134  ...  0.001302  0.000000  0.008923   \n",
       "..        ...       ...       ...  ...       ...       ...       ...   \n",
       "777  0.000250  0.017452  0.008353  ...  0.012612  0.004115  0.003101   \n",
       "778  0.000000  0.001519  0.000498  ...  0.002271  0.000000  0.003681   \n",
       "779  0.001208  0.002626  0.053422  ...  0.011121  0.003436  0.013468   \n",
       "780  0.186496  0.008587  0.018582  ...  0.001109  0.000473  0.001259   \n",
       "781  0.000800  0.000244  0.001867  ...  0.000749  0.000000  0.001748   \n",
       "\n",
       "           54        55        56        57        58        59        60  \n",
       "0    0.001231  0.000345  0.000866  0.006993  0.037352  0.000000  0.028840  \n",
       "1    0.000417  0.005680  0.003558  0.008216  0.004990  0.000771  0.004343  \n",
       "2    0.040577  0.010545  0.079453  0.000247  0.000000  0.054520  0.003480  \n",
       "3    0.001761  0.008811  0.000000  0.003039  0.000794  0.000185  0.037945  \n",
       "4    0.000000  0.008246  0.002920  0.007358  0.000000  0.000635  0.006953  \n",
       "..        ...       ...       ...       ...       ...       ...       ...  \n",
       "777  0.002190  0.000916  0.005706  0.001994  0.001463  0.000000  0.013133  \n",
       "778  0.000000  0.002888  0.005113  0.002463  0.000000  0.000000  0.001314  \n",
       "779  0.000000  0.010312  0.000000  0.002380  0.000880  0.000185  0.044622  \n",
       "780  0.011485  0.006216  0.014987  0.000377  0.000260  0.005167  0.002569  \n",
       "781  0.000217  0.007632  0.000807  0.014632  0.003038  0.001436  0.007166  \n",
       "\n",
       "[782 rows x 62 columns]"
      ]
     },
     "execution_count": 78,
     "metadata": {},
     "output_type": "execute_result"
    }
   ],
   "source": [
    "submission.iloc[:,1:] = y_pred\n",
    "submission"
   ]
  },
  {
   "cell_type": "code",
   "execution_count": 79,
   "metadata": {},
   "outputs": [],
   "source": [
    "submission.to_csv('baseline_rf.csv', index=False)"
   ]
  },
  {
   "cell_type": "code",
   "execution_count": null,
   "metadata": {},
   "outputs": [],
   "source": []
  },
  {
   "cell_type": "code",
   "execution_count": null,
   "metadata": {},
   "outputs": [],
   "source": []
  },
  {
   "cell_type": "code",
   "execution_count": null,
   "metadata": {},
   "outputs": [],
   "source": []
  },
  {
   "cell_type": "code",
   "execution_count": null,
   "metadata": {},
   "outputs": [],
   "source": []
  }
 ],
 "metadata": {
  "kernelspec": {
   "display_name": "Python 3",
   "language": "python",
   "name": "python3"
  },
  "language_info": {
   "codemirror_mode": {
    "name": "ipython",
    "version": 3
   },
   "file_extension": ".py",
   "mimetype": "text/x-python",
   "name": "python",
   "nbconvert_exporter": "python",
   "pygments_lexer": "ipython3",
   "version": "3.7.9"
  }
 },
 "nbformat": 4,
 "nbformat_minor": 4
}
